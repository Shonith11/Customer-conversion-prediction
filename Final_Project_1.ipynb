{
  "nbformat": 4,
  "nbformat_minor": 0,
  "metadata": {
    "colab": {
      "provenance": []
    },
    "kernelspec": {
      "name": "python3",
      "display_name": "Python 3"
    },
    "language_info": {
      "name": "python"
    }
  },
  "cells": [
    {
      "cell_type": "markdown",
      "source": [
        "# **Importing required libraries**"
      ],
      "metadata": {
        "id": "11FCEfvY-x6J"
      }
    },
    {
      "cell_type": "code",
      "execution_count": 4,
      "metadata": {
        "id": "iRUCAOZr-DL2"
      },
      "outputs": [],
      "source": [
        "import pandas as pd\n",
        "import numpy as np\n",
        "import matplotlib.pyplot as plt\n",
        "import seaborn as sns\n",
        "import warnings\n",
        "warnings.filterwarnings(\"ignore\")"
      ]
    },
    {
      "cell_type": "markdown",
      "source": [
        "# **Importing the Dataset**"
      ],
      "metadata": {
        "id": "93R_gcKQ-sXe"
      }
    },
    {
      "cell_type": "code",
      "source": [
        "df = pd.read_csv(\"train.csv\")\n",
        "df.head()"
      ],
      "metadata": {
        "colab": {
          "base_uri": "https://localhost:8080/",
          "height": 206
        },
        "id": "zzTYt7V9-EJ0",
        "outputId": "09452121-0024-4bc1-850a-b791ed6b1683"
      },
      "execution_count": 5,
      "outputs": [
        {
          "output_type": "execute_result",
          "data": {
            "text/plain": [
              "   age           job  marital education_qual call_type  day  mon  dur  \\\n",
              "0   58    management  married       tertiary   unknown    5  may  261   \n",
              "1   44    technician   single      secondary   unknown    5  may  151   \n",
              "2   33  entrepreneur  married      secondary   unknown    5  may   76   \n",
              "3   47   blue-collar  married        unknown   unknown    5  may   92   \n",
              "4   33       unknown   single        unknown   unknown    5  may  198   \n",
              "\n",
              "   num_calls prev_outcome   y  \n",
              "0          1      unknown  no  \n",
              "1          1      unknown  no  \n",
              "2          1      unknown  no  \n",
              "3          1      unknown  no  \n",
              "4          1      unknown  no  "
            ],
            "text/html": [
              "\n",
              "  <div id=\"df-1ebabeac-bfa7-4c8c-b901-5197a1e002d7\">\n",
              "    <div class=\"colab-df-container\">\n",
              "      <div>\n",
              "<style scoped>\n",
              "    .dataframe tbody tr th:only-of-type {\n",
              "        vertical-align: middle;\n",
              "    }\n",
              "\n",
              "    .dataframe tbody tr th {\n",
              "        vertical-align: top;\n",
              "    }\n",
              "\n",
              "    .dataframe thead th {\n",
              "        text-align: right;\n",
              "    }\n",
              "</style>\n",
              "<table border=\"1\" class=\"dataframe\">\n",
              "  <thead>\n",
              "    <tr style=\"text-align: right;\">\n",
              "      <th></th>\n",
              "      <th>age</th>\n",
              "      <th>job</th>\n",
              "      <th>marital</th>\n",
              "      <th>education_qual</th>\n",
              "      <th>call_type</th>\n",
              "      <th>day</th>\n",
              "      <th>mon</th>\n",
              "      <th>dur</th>\n",
              "      <th>num_calls</th>\n",
              "      <th>prev_outcome</th>\n",
              "      <th>y</th>\n",
              "    </tr>\n",
              "  </thead>\n",
              "  <tbody>\n",
              "    <tr>\n",
              "      <th>0</th>\n",
              "      <td>58</td>\n",
              "      <td>management</td>\n",
              "      <td>married</td>\n",
              "      <td>tertiary</td>\n",
              "      <td>unknown</td>\n",
              "      <td>5</td>\n",
              "      <td>may</td>\n",
              "      <td>261</td>\n",
              "      <td>1</td>\n",
              "      <td>unknown</td>\n",
              "      <td>no</td>\n",
              "    </tr>\n",
              "    <tr>\n",
              "      <th>1</th>\n",
              "      <td>44</td>\n",
              "      <td>technician</td>\n",
              "      <td>single</td>\n",
              "      <td>secondary</td>\n",
              "      <td>unknown</td>\n",
              "      <td>5</td>\n",
              "      <td>may</td>\n",
              "      <td>151</td>\n",
              "      <td>1</td>\n",
              "      <td>unknown</td>\n",
              "      <td>no</td>\n",
              "    </tr>\n",
              "    <tr>\n",
              "      <th>2</th>\n",
              "      <td>33</td>\n",
              "      <td>entrepreneur</td>\n",
              "      <td>married</td>\n",
              "      <td>secondary</td>\n",
              "      <td>unknown</td>\n",
              "      <td>5</td>\n",
              "      <td>may</td>\n",
              "      <td>76</td>\n",
              "      <td>1</td>\n",
              "      <td>unknown</td>\n",
              "      <td>no</td>\n",
              "    </tr>\n",
              "    <tr>\n",
              "      <th>3</th>\n",
              "      <td>47</td>\n",
              "      <td>blue-collar</td>\n",
              "      <td>married</td>\n",
              "      <td>unknown</td>\n",
              "      <td>unknown</td>\n",
              "      <td>5</td>\n",
              "      <td>may</td>\n",
              "      <td>92</td>\n",
              "      <td>1</td>\n",
              "      <td>unknown</td>\n",
              "      <td>no</td>\n",
              "    </tr>\n",
              "    <tr>\n",
              "      <th>4</th>\n",
              "      <td>33</td>\n",
              "      <td>unknown</td>\n",
              "      <td>single</td>\n",
              "      <td>unknown</td>\n",
              "      <td>unknown</td>\n",
              "      <td>5</td>\n",
              "      <td>may</td>\n",
              "      <td>198</td>\n",
              "      <td>1</td>\n",
              "      <td>unknown</td>\n",
              "      <td>no</td>\n",
              "    </tr>\n",
              "  </tbody>\n",
              "</table>\n",
              "</div>\n",
              "      <button class=\"colab-df-convert\" onclick=\"convertToInteractive('df-1ebabeac-bfa7-4c8c-b901-5197a1e002d7')\"\n",
              "              title=\"Convert this dataframe to an interactive table.\"\n",
              "              style=\"display:none;\">\n",
              "        \n",
              "  <svg xmlns=\"http://www.w3.org/2000/svg\" height=\"24px\"viewBox=\"0 0 24 24\"\n",
              "       width=\"24px\">\n",
              "    <path d=\"M0 0h24v24H0V0z\" fill=\"none\"/>\n",
              "    <path d=\"M18.56 5.44l.94 2.06.94-2.06 2.06-.94-2.06-.94-.94-2.06-.94 2.06-2.06.94zm-11 1L8.5 8.5l.94-2.06 2.06-.94-2.06-.94L8.5 2.5l-.94 2.06-2.06.94zm10 10l.94 2.06.94-2.06 2.06-.94-2.06-.94-.94-2.06-.94 2.06-2.06.94z\"/><path d=\"M17.41 7.96l-1.37-1.37c-.4-.4-.92-.59-1.43-.59-.52 0-1.04.2-1.43.59L10.3 9.45l-7.72 7.72c-.78.78-.78 2.05 0 2.83L4 21.41c.39.39.9.59 1.41.59.51 0 1.02-.2 1.41-.59l7.78-7.78 2.81-2.81c.8-.78.8-2.07 0-2.86zM5.41 20L4 18.59l7.72-7.72 1.47 1.35L5.41 20z\"/>\n",
              "  </svg>\n",
              "      </button>\n",
              "      \n",
              "  <style>\n",
              "    .colab-df-container {\n",
              "      display:flex;\n",
              "      flex-wrap:wrap;\n",
              "      gap: 12px;\n",
              "    }\n",
              "\n",
              "    .colab-df-convert {\n",
              "      background-color: #E8F0FE;\n",
              "      border: none;\n",
              "      border-radius: 50%;\n",
              "      cursor: pointer;\n",
              "      display: none;\n",
              "      fill: #1967D2;\n",
              "      height: 32px;\n",
              "      padding: 0 0 0 0;\n",
              "      width: 32px;\n",
              "    }\n",
              "\n",
              "    .colab-df-convert:hover {\n",
              "      background-color: #E2EBFA;\n",
              "      box-shadow: 0px 1px 2px rgba(60, 64, 67, 0.3), 0px 1px 3px 1px rgba(60, 64, 67, 0.15);\n",
              "      fill: #174EA6;\n",
              "    }\n",
              "\n",
              "    [theme=dark] .colab-df-convert {\n",
              "      background-color: #3B4455;\n",
              "      fill: #D2E3FC;\n",
              "    }\n",
              "\n",
              "    [theme=dark] .colab-df-convert:hover {\n",
              "      background-color: #434B5C;\n",
              "      box-shadow: 0px 1px 3px 1px rgba(0, 0, 0, 0.15);\n",
              "      filter: drop-shadow(0px 1px 2px rgba(0, 0, 0, 0.3));\n",
              "      fill: #FFFFFF;\n",
              "    }\n",
              "  </style>\n",
              "\n",
              "      <script>\n",
              "        const buttonEl =\n",
              "          document.querySelector('#df-1ebabeac-bfa7-4c8c-b901-5197a1e002d7 button.colab-df-convert');\n",
              "        buttonEl.style.display =\n",
              "          google.colab.kernel.accessAllowed ? 'block' : 'none';\n",
              "\n",
              "        async function convertToInteractive(key) {\n",
              "          const element = document.querySelector('#df-1ebabeac-bfa7-4c8c-b901-5197a1e002d7');\n",
              "          const dataTable =\n",
              "            await google.colab.kernel.invokeFunction('convertToInteractive',\n",
              "                                                     [key], {});\n",
              "          if (!dataTable) return;\n",
              "\n",
              "          const docLinkHtml = 'Like what you see? Visit the ' +\n",
              "            '<a target=\"_blank\" href=https://colab.research.google.com/notebooks/data_table.ipynb>data table notebook</a>'\n",
              "            + ' to learn more about interactive tables.';\n",
              "          element.innerHTML = '';\n",
              "          dataTable['output_type'] = 'display_data';\n",
              "          await google.colab.output.renderOutput(dataTable, element);\n",
              "          const docLink = document.createElement('div');\n",
              "          docLink.innerHTML = docLinkHtml;\n",
              "          element.appendChild(docLink);\n",
              "        }\n",
              "      </script>\n",
              "    </div>\n",
              "  </div>\n",
              "  "
            ]
          },
          "metadata": {},
          "execution_count": 5
        }
      ]
    },
    {
      "cell_type": "markdown",
      "source": [
        "# **Analysing the Dataset**"
      ],
      "metadata": {
        "id": "TewDYLLW_GsB"
      }
    },
    {
      "cell_type": "code",
      "source": [
        "df.shape"
      ],
      "metadata": {
        "colab": {
          "base_uri": "https://localhost:8080/"
        },
        "id": "GnBugQwB-pbO",
        "outputId": "eeaded6b-f6e1-4908-b45a-55883ddb5d42"
      },
      "execution_count": 6,
      "outputs": [
        {
          "output_type": "execute_result",
          "data": {
            "text/plain": [
              "(45211, 11)"
            ]
          },
          "metadata": {},
          "execution_count": 6
        }
      ]
    },
    {
      "cell_type": "code",
      "source": [
        "df.describe()"
      ],
      "metadata": {
        "colab": {
          "base_uri": "https://localhost:8080/",
          "height": 300
        },
        "id": "M4_hyhew_LZc",
        "outputId": "2cfc653c-a4e0-4c44-8a28-2372198ea8b1"
      },
      "execution_count": 7,
      "outputs": [
        {
          "output_type": "execute_result",
          "data": {
            "text/plain": [
              "                age           day           dur     num_calls\n",
              "count  45211.000000  45211.000000  45211.000000  45211.000000\n",
              "mean      40.936210     15.806419    258.163080      2.763841\n",
              "std       10.618762      8.322476    257.527812      3.098021\n",
              "min       18.000000      1.000000      0.000000      1.000000\n",
              "25%       33.000000      8.000000    103.000000      1.000000\n",
              "50%       39.000000     16.000000    180.000000      2.000000\n",
              "75%       48.000000     21.000000    319.000000      3.000000\n",
              "max       95.000000     31.000000   4918.000000     63.000000"
            ],
            "text/html": [
              "\n",
              "  <div id=\"df-9f7cfa50-2713-459f-b8f3-f20613bfd7f6\">\n",
              "    <div class=\"colab-df-container\">\n",
              "      <div>\n",
              "<style scoped>\n",
              "    .dataframe tbody tr th:only-of-type {\n",
              "        vertical-align: middle;\n",
              "    }\n",
              "\n",
              "    .dataframe tbody tr th {\n",
              "        vertical-align: top;\n",
              "    }\n",
              "\n",
              "    .dataframe thead th {\n",
              "        text-align: right;\n",
              "    }\n",
              "</style>\n",
              "<table border=\"1\" class=\"dataframe\">\n",
              "  <thead>\n",
              "    <tr style=\"text-align: right;\">\n",
              "      <th></th>\n",
              "      <th>age</th>\n",
              "      <th>day</th>\n",
              "      <th>dur</th>\n",
              "      <th>num_calls</th>\n",
              "    </tr>\n",
              "  </thead>\n",
              "  <tbody>\n",
              "    <tr>\n",
              "      <th>count</th>\n",
              "      <td>45211.000000</td>\n",
              "      <td>45211.000000</td>\n",
              "      <td>45211.000000</td>\n",
              "      <td>45211.000000</td>\n",
              "    </tr>\n",
              "    <tr>\n",
              "      <th>mean</th>\n",
              "      <td>40.936210</td>\n",
              "      <td>15.806419</td>\n",
              "      <td>258.163080</td>\n",
              "      <td>2.763841</td>\n",
              "    </tr>\n",
              "    <tr>\n",
              "      <th>std</th>\n",
              "      <td>10.618762</td>\n",
              "      <td>8.322476</td>\n",
              "      <td>257.527812</td>\n",
              "      <td>3.098021</td>\n",
              "    </tr>\n",
              "    <tr>\n",
              "      <th>min</th>\n",
              "      <td>18.000000</td>\n",
              "      <td>1.000000</td>\n",
              "      <td>0.000000</td>\n",
              "      <td>1.000000</td>\n",
              "    </tr>\n",
              "    <tr>\n",
              "      <th>25%</th>\n",
              "      <td>33.000000</td>\n",
              "      <td>8.000000</td>\n",
              "      <td>103.000000</td>\n",
              "      <td>1.000000</td>\n",
              "    </tr>\n",
              "    <tr>\n",
              "      <th>50%</th>\n",
              "      <td>39.000000</td>\n",
              "      <td>16.000000</td>\n",
              "      <td>180.000000</td>\n",
              "      <td>2.000000</td>\n",
              "    </tr>\n",
              "    <tr>\n",
              "      <th>75%</th>\n",
              "      <td>48.000000</td>\n",
              "      <td>21.000000</td>\n",
              "      <td>319.000000</td>\n",
              "      <td>3.000000</td>\n",
              "    </tr>\n",
              "    <tr>\n",
              "      <th>max</th>\n",
              "      <td>95.000000</td>\n",
              "      <td>31.000000</td>\n",
              "      <td>4918.000000</td>\n",
              "      <td>63.000000</td>\n",
              "    </tr>\n",
              "  </tbody>\n",
              "</table>\n",
              "</div>\n",
              "      <button class=\"colab-df-convert\" onclick=\"convertToInteractive('df-9f7cfa50-2713-459f-b8f3-f20613bfd7f6')\"\n",
              "              title=\"Convert this dataframe to an interactive table.\"\n",
              "              style=\"display:none;\">\n",
              "        \n",
              "  <svg xmlns=\"http://www.w3.org/2000/svg\" height=\"24px\"viewBox=\"0 0 24 24\"\n",
              "       width=\"24px\">\n",
              "    <path d=\"M0 0h24v24H0V0z\" fill=\"none\"/>\n",
              "    <path d=\"M18.56 5.44l.94 2.06.94-2.06 2.06-.94-2.06-.94-.94-2.06-.94 2.06-2.06.94zm-11 1L8.5 8.5l.94-2.06 2.06-.94-2.06-.94L8.5 2.5l-.94 2.06-2.06.94zm10 10l.94 2.06.94-2.06 2.06-.94-2.06-.94-.94-2.06-.94 2.06-2.06.94z\"/><path d=\"M17.41 7.96l-1.37-1.37c-.4-.4-.92-.59-1.43-.59-.52 0-1.04.2-1.43.59L10.3 9.45l-7.72 7.72c-.78.78-.78 2.05 0 2.83L4 21.41c.39.39.9.59 1.41.59.51 0 1.02-.2 1.41-.59l7.78-7.78 2.81-2.81c.8-.78.8-2.07 0-2.86zM5.41 20L4 18.59l7.72-7.72 1.47 1.35L5.41 20z\"/>\n",
              "  </svg>\n",
              "      </button>\n",
              "      \n",
              "  <style>\n",
              "    .colab-df-container {\n",
              "      display:flex;\n",
              "      flex-wrap:wrap;\n",
              "      gap: 12px;\n",
              "    }\n",
              "\n",
              "    .colab-df-convert {\n",
              "      background-color: #E8F0FE;\n",
              "      border: none;\n",
              "      border-radius: 50%;\n",
              "      cursor: pointer;\n",
              "      display: none;\n",
              "      fill: #1967D2;\n",
              "      height: 32px;\n",
              "      padding: 0 0 0 0;\n",
              "      width: 32px;\n",
              "    }\n",
              "\n",
              "    .colab-df-convert:hover {\n",
              "      background-color: #E2EBFA;\n",
              "      box-shadow: 0px 1px 2px rgba(60, 64, 67, 0.3), 0px 1px 3px 1px rgba(60, 64, 67, 0.15);\n",
              "      fill: #174EA6;\n",
              "    }\n",
              "\n",
              "    [theme=dark] .colab-df-convert {\n",
              "      background-color: #3B4455;\n",
              "      fill: #D2E3FC;\n",
              "    }\n",
              "\n",
              "    [theme=dark] .colab-df-convert:hover {\n",
              "      background-color: #434B5C;\n",
              "      box-shadow: 0px 1px 3px 1px rgba(0, 0, 0, 0.15);\n",
              "      filter: drop-shadow(0px 1px 2px rgba(0, 0, 0, 0.3));\n",
              "      fill: #FFFFFF;\n",
              "    }\n",
              "  </style>\n",
              "\n",
              "      <script>\n",
              "        const buttonEl =\n",
              "          document.querySelector('#df-9f7cfa50-2713-459f-b8f3-f20613bfd7f6 button.colab-df-convert');\n",
              "        buttonEl.style.display =\n",
              "          google.colab.kernel.accessAllowed ? 'block' : 'none';\n",
              "\n",
              "        async function convertToInteractive(key) {\n",
              "          const element = document.querySelector('#df-9f7cfa50-2713-459f-b8f3-f20613bfd7f6');\n",
              "          const dataTable =\n",
              "            await google.colab.kernel.invokeFunction('convertToInteractive',\n",
              "                                                     [key], {});\n",
              "          if (!dataTable) return;\n",
              "\n",
              "          const docLinkHtml = 'Like what you see? Visit the ' +\n",
              "            '<a target=\"_blank\" href=https://colab.research.google.com/notebooks/data_table.ipynb>data table notebook</a>'\n",
              "            + ' to learn more about interactive tables.';\n",
              "          element.innerHTML = '';\n",
              "          dataTable['output_type'] = 'display_data';\n",
              "          await google.colab.output.renderOutput(dataTable, element);\n",
              "          const docLink = document.createElement('div');\n",
              "          docLink.innerHTML = docLinkHtml;\n",
              "          element.appendChild(docLink);\n",
              "        }\n",
              "      </script>\n",
              "    </div>\n",
              "  </div>\n",
              "  "
            ]
          },
          "metadata": {},
          "execution_count": 7
        }
      ]
    },
    {
      "cell_type": "code",
      "source": [
        "df.columns"
      ],
      "metadata": {
        "colab": {
          "base_uri": "https://localhost:8080/"
        },
        "id": "SRj87kqB_OhB",
        "outputId": "e2f98448-a5e9-4ab8-ea96-ba28274a2ef7"
      },
      "execution_count": 8,
      "outputs": [
        {
          "output_type": "execute_result",
          "data": {
            "text/plain": [
              "Index(['age', 'job', 'marital', 'education_qual', 'call_type', 'day', 'mon',\n",
              "       'dur', 'num_calls', 'prev_outcome', 'y'],\n",
              "      dtype='object')"
            ]
          },
          "metadata": {},
          "execution_count": 8
        }
      ]
    },
    {
      "cell_type": "code",
      "source": [
        "df[\"y\"].value_counts()"
      ],
      "metadata": {
        "colab": {
          "base_uri": "https://localhost:8080/"
        },
        "id": "SpU1Tf7d_UCP",
        "outputId": "33e727cd-3011-48b1-b4bd-18270dda70e2"
      },
      "execution_count": 9,
      "outputs": [
        {
          "output_type": "execute_result",
          "data": {
            "text/plain": [
              "no     39922\n",
              "yes     5289\n",
              "Name: y, dtype: int64"
            ]
          },
          "metadata": {},
          "execution_count": 9
        }
      ]
    },
    {
      "cell_type": "code",
      "source": [
        "print(\"Percentage of no = \",39922/(39922+5289)*100,\"%\")\n",
        "print(\"Percentage of yes = \",5289/(39922+5289)*100,\"%\")"
      ],
      "metadata": {
        "colab": {
          "base_uri": "https://localhost:8080/"
        },
        "id": "ioaDRii5_e7v",
        "outputId": "93bd4679-ab53-4441-c52f-13e758c9be62"
      },
      "execution_count": 10,
      "outputs": [
        {
          "output_type": "stream",
          "name": "stdout",
          "text": [
            "Percentage of no =  88.30151954170445 %\n",
            "Percentage of yes =  11.698480458295547 %\n"
          ]
        }
      ]
    },
    {
      "cell_type": "markdown",
      "source": [
        "From above analysis, we can understand that this an imbalanced dataset with 88.3% of the data is in \"no\" class and remaining 11.7% is with \"yes\" class."
      ],
      "metadata": {
        "id": "XHWVFuUw_lpj"
      }
    },
    {
      "cell_type": "markdown",
      "source": [
        "# **Cleaning the Data**"
      ],
      "metadata": {
        "id": "I2_8uvah_t8Z"
      }
    },
    {
      "cell_type": "code",
      "source": [
        "# checking for null values\n",
        "df.isnull().sum()"
      ],
      "metadata": {
        "colab": {
          "base_uri": "https://localhost:8080/"
        },
        "id": "9I5kum8R_iyB",
        "outputId": "a51ab132-68bd-4881-f996-9adca376ecc9"
      },
      "execution_count": 11,
      "outputs": [
        {
          "output_type": "execute_result",
          "data": {
            "text/plain": [
              "age               0\n",
              "job               0\n",
              "marital           0\n",
              "education_qual    0\n",
              "call_type         0\n",
              "day               0\n",
              "mon               0\n",
              "dur               0\n",
              "num_calls         0\n",
              "prev_outcome      0\n",
              "y                 0\n",
              "dtype: int64"
            ]
          },
          "metadata": {},
          "execution_count": 11
        }
      ]
    },
    {
      "cell_type": "code",
      "source": [
        "# checking for duplicate values\n",
        "df.duplicated().sum()"
      ],
      "metadata": {
        "colab": {
          "base_uri": "https://localhost:8080/"
        },
        "id": "qSDi8RZQ_1EH",
        "outputId": "b6e499f5-4d9f-4a43-9cae-6cde8ee4a213"
      },
      "execution_count": 12,
      "outputs": [
        {
          "output_type": "execute_result",
          "data": {
            "text/plain": [
              "6"
            ]
          },
          "metadata": {},
          "execution_count": 12
        }
      ]
    },
    {
      "cell_type": "code",
      "source": [
        "# Dropping Duplicates\n",
        "df = df.drop_duplicates()\n",
        "df.duplicated().sum()"
      ],
      "metadata": {
        "colab": {
          "base_uri": "https://localhost:8080/"
        },
        "id": "B21gWTOx_6KI",
        "outputId": "b528055e-d66a-48c1-bac7-7f578c6727b6"
      },
      "execution_count": 13,
      "outputs": [
        {
          "output_type": "execute_result",
          "data": {
            "text/plain": [
              "0"
            ]
          },
          "metadata": {},
          "execution_count": 13
        }
      ]
    },
    {
      "cell_type": "markdown",
      "source": [
        "\n",
        "There were 6 duplicate values found, which were removed. There are no null values in the data"
      ],
      "metadata": {
        "id": "m-E6IKIDAJaR"
      }
    },
    {
      "cell_type": "code",
      "source": [
        "# Checking the format of the data columns\n",
        "\n",
        "df.dtypes"
      ],
      "metadata": {
        "colab": {
          "base_uri": "https://localhost:8080/"
        },
        "id": "IM2wK5al_clC",
        "outputId": "c9caa132-9283-4894-8035-7d0ed9a40d8d"
      },
      "execution_count": 14,
      "outputs": [
        {
          "output_type": "execute_result",
          "data": {
            "text/plain": [
              "age                int64\n",
              "job               object\n",
              "marital           object\n",
              "education_qual    object\n",
              "call_type         object\n",
              "day                int64\n",
              "mon               object\n",
              "dur                int64\n",
              "num_calls          int64\n",
              "prev_outcome      object\n",
              "y                 object\n",
              "dtype: object"
            ]
          },
          "metadata": {},
          "execution_count": 14
        }
      ]
    },
    {
      "cell_type": "markdown",
      "source": [
        "## **Checking the Unknown Values in the Data**\n",
        "\n",
        "\n"
      ],
      "metadata": {
        "id": "gJneJaKnBNHR"
      }
    },
    {
      "cell_type": "code",
      "source": [
        "df['Target'] = df['y'].map({\"no\":0, \"yes\":1})\n",
        "df.head()"
      ],
      "metadata": {
        "colab": {
          "base_uri": "https://localhost:8080/",
          "height": 206
        },
        "id": "cIPBi7dW_Slp",
        "outputId": "a397ab4d-ff94-4886-b954-f7691fd4d917"
      },
      "execution_count": 15,
      "outputs": [
        {
          "output_type": "execute_result",
          "data": {
            "text/plain": [
              "   age           job  marital education_qual call_type  day  mon  dur  \\\n",
              "0   58    management  married       tertiary   unknown    5  may  261   \n",
              "1   44    technician   single      secondary   unknown    5  may  151   \n",
              "2   33  entrepreneur  married      secondary   unknown    5  may   76   \n",
              "3   47   blue-collar  married        unknown   unknown    5  may   92   \n",
              "4   33       unknown   single        unknown   unknown    5  may  198   \n",
              "\n",
              "   num_calls prev_outcome   y  Target  \n",
              "0          1      unknown  no       0  \n",
              "1          1      unknown  no       0  \n",
              "2          1      unknown  no       0  \n",
              "3          1      unknown  no       0  \n",
              "4          1      unknown  no       0  "
            ],
            "text/html": [
              "\n",
              "  <div id=\"df-1287c0ea-68df-4fb8-8701-ed5d52f8633d\">\n",
              "    <div class=\"colab-df-container\">\n",
              "      <div>\n",
              "<style scoped>\n",
              "    .dataframe tbody tr th:only-of-type {\n",
              "        vertical-align: middle;\n",
              "    }\n",
              "\n",
              "    .dataframe tbody tr th {\n",
              "        vertical-align: top;\n",
              "    }\n",
              "\n",
              "    .dataframe thead th {\n",
              "        text-align: right;\n",
              "    }\n",
              "</style>\n",
              "<table border=\"1\" class=\"dataframe\">\n",
              "  <thead>\n",
              "    <tr style=\"text-align: right;\">\n",
              "      <th></th>\n",
              "      <th>age</th>\n",
              "      <th>job</th>\n",
              "      <th>marital</th>\n",
              "      <th>education_qual</th>\n",
              "      <th>call_type</th>\n",
              "      <th>day</th>\n",
              "      <th>mon</th>\n",
              "      <th>dur</th>\n",
              "      <th>num_calls</th>\n",
              "      <th>prev_outcome</th>\n",
              "      <th>y</th>\n",
              "      <th>Target</th>\n",
              "    </tr>\n",
              "  </thead>\n",
              "  <tbody>\n",
              "    <tr>\n",
              "      <th>0</th>\n",
              "      <td>58</td>\n",
              "      <td>management</td>\n",
              "      <td>married</td>\n",
              "      <td>tertiary</td>\n",
              "      <td>unknown</td>\n",
              "      <td>5</td>\n",
              "      <td>may</td>\n",
              "      <td>261</td>\n",
              "      <td>1</td>\n",
              "      <td>unknown</td>\n",
              "      <td>no</td>\n",
              "      <td>0</td>\n",
              "    </tr>\n",
              "    <tr>\n",
              "      <th>1</th>\n",
              "      <td>44</td>\n",
              "      <td>technician</td>\n",
              "      <td>single</td>\n",
              "      <td>secondary</td>\n",
              "      <td>unknown</td>\n",
              "      <td>5</td>\n",
              "      <td>may</td>\n",
              "      <td>151</td>\n",
              "      <td>1</td>\n",
              "      <td>unknown</td>\n",
              "      <td>no</td>\n",
              "      <td>0</td>\n",
              "    </tr>\n",
              "    <tr>\n",
              "      <th>2</th>\n",
              "      <td>33</td>\n",
              "      <td>entrepreneur</td>\n",
              "      <td>married</td>\n",
              "      <td>secondary</td>\n",
              "      <td>unknown</td>\n",
              "      <td>5</td>\n",
              "      <td>may</td>\n",
              "      <td>76</td>\n",
              "      <td>1</td>\n",
              "      <td>unknown</td>\n",
              "      <td>no</td>\n",
              "      <td>0</td>\n",
              "    </tr>\n",
              "    <tr>\n",
              "      <th>3</th>\n",
              "      <td>47</td>\n",
              "      <td>blue-collar</td>\n",
              "      <td>married</td>\n",
              "      <td>unknown</td>\n",
              "      <td>unknown</td>\n",
              "      <td>5</td>\n",
              "      <td>may</td>\n",
              "      <td>92</td>\n",
              "      <td>1</td>\n",
              "      <td>unknown</td>\n",
              "      <td>no</td>\n",
              "      <td>0</td>\n",
              "    </tr>\n",
              "    <tr>\n",
              "      <th>4</th>\n",
              "      <td>33</td>\n",
              "      <td>unknown</td>\n",
              "      <td>single</td>\n",
              "      <td>unknown</td>\n",
              "      <td>unknown</td>\n",
              "      <td>5</td>\n",
              "      <td>may</td>\n",
              "      <td>198</td>\n",
              "      <td>1</td>\n",
              "      <td>unknown</td>\n",
              "      <td>no</td>\n",
              "      <td>0</td>\n",
              "    </tr>\n",
              "  </tbody>\n",
              "</table>\n",
              "</div>\n",
              "      <button class=\"colab-df-convert\" onclick=\"convertToInteractive('df-1287c0ea-68df-4fb8-8701-ed5d52f8633d')\"\n",
              "              title=\"Convert this dataframe to an interactive table.\"\n",
              "              style=\"display:none;\">\n",
              "        \n",
              "  <svg xmlns=\"http://www.w3.org/2000/svg\" height=\"24px\"viewBox=\"0 0 24 24\"\n",
              "       width=\"24px\">\n",
              "    <path d=\"M0 0h24v24H0V0z\" fill=\"none\"/>\n",
              "    <path d=\"M18.56 5.44l.94 2.06.94-2.06 2.06-.94-2.06-.94-.94-2.06-.94 2.06-2.06.94zm-11 1L8.5 8.5l.94-2.06 2.06-.94-2.06-.94L8.5 2.5l-.94 2.06-2.06.94zm10 10l.94 2.06.94-2.06 2.06-.94-2.06-.94-.94-2.06-.94 2.06-2.06.94z\"/><path d=\"M17.41 7.96l-1.37-1.37c-.4-.4-.92-.59-1.43-.59-.52 0-1.04.2-1.43.59L10.3 9.45l-7.72 7.72c-.78.78-.78 2.05 0 2.83L4 21.41c.39.39.9.59 1.41.59.51 0 1.02-.2 1.41-.59l7.78-7.78 2.81-2.81c.8-.78.8-2.07 0-2.86zM5.41 20L4 18.59l7.72-7.72 1.47 1.35L5.41 20z\"/>\n",
              "  </svg>\n",
              "      </button>\n",
              "      \n",
              "  <style>\n",
              "    .colab-df-container {\n",
              "      display:flex;\n",
              "      flex-wrap:wrap;\n",
              "      gap: 12px;\n",
              "    }\n",
              "\n",
              "    .colab-df-convert {\n",
              "      background-color: #E8F0FE;\n",
              "      border: none;\n",
              "      border-radius: 50%;\n",
              "      cursor: pointer;\n",
              "      display: none;\n",
              "      fill: #1967D2;\n",
              "      height: 32px;\n",
              "      padding: 0 0 0 0;\n",
              "      width: 32px;\n",
              "    }\n",
              "\n",
              "    .colab-df-convert:hover {\n",
              "      background-color: #E2EBFA;\n",
              "      box-shadow: 0px 1px 2px rgba(60, 64, 67, 0.3), 0px 1px 3px 1px rgba(60, 64, 67, 0.15);\n",
              "      fill: #174EA6;\n",
              "    }\n",
              "\n",
              "    [theme=dark] .colab-df-convert {\n",
              "      background-color: #3B4455;\n",
              "      fill: #D2E3FC;\n",
              "    }\n",
              "\n",
              "    [theme=dark] .colab-df-convert:hover {\n",
              "      background-color: #434B5C;\n",
              "      box-shadow: 0px 1px 3px 1px rgba(0, 0, 0, 0.15);\n",
              "      filter: drop-shadow(0px 1px 2px rgba(0, 0, 0, 0.3));\n",
              "      fill: #FFFFFF;\n",
              "    }\n",
              "  </style>\n",
              "\n",
              "      <script>\n",
              "        const buttonEl =\n",
              "          document.querySelector('#df-1287c0ea-68df-4fb8-8701-ed5d52f8633d button.colab-df-convert');\n",
              "        buttonEl.style.display =\n",
              "          google.colab.kernel.accessAllowed ? 'block' : 'none';\n",
              "\n",
              "        async function convertToInteractive(key) {\n",
              "          const element = document.querySelector('#df-1287c0ea-68df-4fb8-8701-ed5d52f8633d');\n",
              "          const dataTable =\n",
              "            await google.colab.kernel.invokeFunction('convertToInteractive',\n",
              "                                                     [key], {});\n",
              "          if (!dataTable) return;\n",
              "\n",
              "          const docLinkHtml = 'Like what you see? Visit the ' +\n",
              "            '<a target=\"_blank\" href=https://colab.research.google.com/notebooks/data_table.ipynb>data table notebook</a>'\n",
              "            + ' to learn more about interactive tables.';\n",
              "          element.innerHTML = '';\n",
              "          dataTable['output_type'] = 'display_data';\n",
              "          await google.colab.output.renderOutput(dataTable, element);\n",
              "          const docLink = document.createElement('div');\n",
              "          docLink.innerHTML = docLinkHtml;\n",
              "          element.appendChild(docLink);\n",
              "        }\n",
              "      </script>\n",
              "    </div>\n",
              "  </div>\n",
              "  "
            ]
          },
          "metadata": {},
          "execution_count": 15
        }
      ]
    },
    {
      "cell_type": "markdown",
      "source": [
        "### **Job**"
      ],
      "metadata": {
        "id": "eUPwe9zLBso5"
      }
    },
    {
      "cell_type": "code",
      "source": [
        "df.job.value_counts()"
      ],
      "metadata": {
        "colab": {
          "base_uri": "https://localhost:8080/"
        },
        "id": "6redFrS_BldR",
        "outputId": "e1a5037f-c8d7-4bf8-ce01-61655c204c13"
      },
      "execution_count": 16,
      "outputs": [
        {
          "output_type": "execute_result",
          "data": {
            "text/plain": [
              "blue-collar      9730\n",
              "management       9457\n",
              "technician       7596\n",
              "admin.           5170\n",
              "services         4153\n",
              "retired          2264\n",
              "self-employed    1579\n",
              "entrepreneur     1487\n",
              "unemployed       1303\n",
              "housemaid        1240\n",
              "student           938\n",
              "unknown           288\n",
              "Name: job, dtype: int64"
            ]
          },
          "metadata": {},
          "execution_count": 16
        }
      ]
    },
    {
      "cell_type": "markdown",
      "source": [
        "Since unknown count is very less, imputing it with mode value - blue collar"
      ],
      "metadata": {
        "id": "BeVShAPZD--6"
      }
    },
    {
      "cell_type": "code",
      "source": [
        "df['job'] = df['job'].replace('unknown', 'blue-collar')\n",
        "df.job.value_counts()"
      ],
      "metadata": {
        "colab": {
          "base_uri": "https://localhost:8080/"
        },
        "id": "yos6oYPsC-S2",
        "outputId": "dcf0d106-27c0-4e58-d82d-f98c7a198eb8"
      },
      "execution_count": 17,
      "outputs": [
        {
          "output_type": "execute_result",
          "data": {
            "text/plain": [
              "blue-collar      10018\n",
              "management        9457\n",
              "technician        7596\n",
              "admin.            5170\n",
              "services          4153\n",
              "retired           2264\n",
              "self-employed     1579\n",
              "entrepreneur      1487\n",
              "unemployed        1303\n",
              "housemaid         1240\n",
              "student            938\n",
              "Name: job, dtype: int64"
            ]
          },
          "metadata": {},
          "execution_count": 17
        }
      ]
    },
    {
      "cell_type": "markdown",
      "source": [
        "### **Marital**"
      ],
      "metadata": {
        "id": "5L0g0bwJFGK-"
      }
    },
    {
      "cell_type": "code",
      "source": [
        "df.marital.value_counts()"
      ],
      "metadata": {
        "colab": {
          "base_uri": "https://localhost:8080/"
        },
        "id": "-uvpgCjXB2KY",
        "outputId": "e77b42be-0f65-4cb9-e171-f9410f4d768c"
      },
      "execution_count": 18,
      "outputs": [
        {
          "output_type": "execute_result",
          "data": {
            "text/plain": [
              "married     27210\n",
              "single      12788\n",
              "divorced     5207\n",
              "Name: marital, dtype: int64"
            ]
          },
          "metadata": {},
          "execution_count": 18
        }
      ]
    },
    {
      "cell_type": "markdown",
      "source": [
        "### **education_qual**"
      ],
      "metadata": {
        "id": "yV_8WgpWFTk6"
      }
    },
    {
      "cell_type": "code",
      "source": [
        "df.education_qual.value_counts()"
      ],
      "metadata": {
        "colab": {
          "base_uri": "https://localhost:8080/"
        },
        "id": "0or5WW6--lrj",
        "outputId": "0907971e-9233-401b-d42c-d3d0f7800948"
      },
      "execution_count": 19,
      "outputs": [
        {
          "output_type": "execute_result",
          "data": {
            "text/plain": [
              "secondary    23199\n",
              "tertiary     13299\n",
              "primary       6850\n",
              "unknown       1857\n",
              "Name: education_qual, dtype: int64"
            ]
          },
          "metadata": {},
          "execution_count": 19
        }
      ]
    },
    {
      "cell_type": "markdown",
      "source": [
        "Since unknown count is very less, imputing it with mode value - secondary"
      ],
      "metadata": {
        "id": "OTqwByw6GX15"
      }
    },
    {
      "cell_type": "code",
      "source": [
        "df['education_qual'] = df['education_qual'].replace('unknown', 'secondary')\n",
        "df.education_qual.value_counts()"
      ],
      "metadata": {
        "colab": {
          "base_uri": "https://localhost:8080/"
        },
        "id": "NOzdFqWLFX6g",
        "outputId": "3868eb04-d33c-4374-8ca6-f42563173a1c"
      },
      "execution_count": 20,
      "outputs": [
        {
          "output_type": "execute_result",
          "data": {
            "text/plain": [
              "secondary    25056\n",
              "tertiary     13299\n",
              "primary       6850\n",
              "Name: education_qual, dtype: int64"
            ]
          },
          "metadata": {},
          "execution_count": 20
        }
      ]
    },
    {
      "cell_type": "markdown",
      "source": [
        "### **call_type**"
      ],
      "metadata": {
        "id": "ITbIxzkhGhPD"
      }
    },
    {
      "cell_type": "code",
      "source": [
        "df.call_type.value_counts()"
      ],
      "metadata": {
        "colab": {
          "base_uri": "https://localhost:8080/"
        },
        "id": "Ji5RTI_8FlwT",
        "outputId": "b07ba8a1-56fb-47d8-8815-bce19346cbaa"
      },
      "execution_count": 21,
      "outputs": [
        {
          "output_type": "execute_result",
          "data": {
            "text/plain": [
              "cellular     29282\n",
              "unknown      13017\n",
              "telephone     2906\n",
              "Name: call_type, dtype: int64"
            ]
          },
          "metadata": {},
          "execution_count": 21
        }
      ]
    },
    {
      "cell_type": "markdown",
      "source": [
        "Unknown count is significantly high, so it will be kept as it is."
      ],
      "metadata": {
        "id": "4tjXjwgbG54-"
      }
    },
    {
      "cell_type": "markdown",
      "source": [
        "### **mon**"
      ],
      "metadata": {
        "id": "6NvZuIoRHFQ7"
      }
    },
    {
      "cell_type": "code",
      "source": [
        "df.mon.value_counts()"
      ],
      "metadata": {
        "colab": {
          "base_uri": "https://localhost:8080/"
        },
        "id": "djgHw9wmGnpi",
        "outputId": "07712211-d5b3-4590-b66d-8bf6f3021381"
      },
      "execution_count": 22,
      "outputs": [
        {
          "output_type": "execute_result",
          "data": {
            "text/plain": [
              "may    13765\n",
              "jul     6894\n",
              "aug     6245\n",
              "jun     5339\n",
              "nov     3970\n",
              "apr     2932\n",
              "feb     2649\n",
              "jan     1403\n",
              "oct      738\n",
              "sep      579\n",
              "mar      477\n",
              "dec      214\n",
              "Name: mon, dtype: int64"
            ]
          },
          "metadata": {},
          "execution_count": 22
        }
      ]
    },
    {
      "cell_type": "markdown",
      "source": [
        "### **prev_outcome**"
      ],
      "metadata": {
        "id": "b6MqGkQlHQx8"
      }
    },
    {
      "cell_type": "code",
      "source": [
        "df.prev_outcome.value_counts()"
      ],
      "metadata": {
        "colab": {
          "base_uri": "https://localhost:8080/"
        },
        "id": "Jj6GzMVcHKbd",
        "outputId": "74fe395b-e8ae-4d0b-d10c-98045b9240a1"
      },
      "execution_count": 23,
      "outputs": [
        {
          "output_type": "execute_result",
          "data": {
            "text/plain": [
              "unknown    36953\n",
              "failure     4901\n",
              "other       1840\n",
              "success     1511\n",
              "Name: prev_outcome, dtype: int64"
            ]
          },
          "metadata": {},
          "execution_count": 23
        }
      ]
    },
    {
      "cell_type": "markdown",
      "source": [
        "Unknown count is significantly high, so it will be kept as it is."
      ],
      "metadata": {
        "id": "7BXtAQG_Hagb"
      }
    },
    {
      "cell_type": "markdown",
      "source": [
        "## **Outlier Detection and correction**"
      ],
      "metadata": {
        "id": "LebUE2syHmRi"
      }
    },
    {
      "cell_type": "code",
      "source": [
        "df.describe()"
      ],
      "metadata": {
        "colab": {
          "base_uri": "https://localhost:8080/",
          "height": 300
        },
        "id": "A3GVsrE3HVLI",
        "outputId": "a9c59432-f877-448f-c0bd-74b03ef403b7"
      },
      "execution_count": 24,
      "outputs": [
        {
          "output_type": "execute_result",
          "data": {
            "text/plain": [
              "                age          day           dur     num_calls        Target\n",
              "count  45205.000000  45205.00000  45205.000000  45205.000000  45205.000000\n",
              "mean      40.937087     15.80688    258.183055      2.763898      0.117000\n",
              "std       10.619130      8.32234    257.538504      3.098189      0.321424\n",
              "min       18.000000      1.00000      0.000000      1.000000      0.000000\n",
              "25%       33.000000      8.00000    103.000000      1.000000      0.000000\n",
              "50%       39.000000     16.00000    180.000000      2.000000      0.000000\n",
              "75%       48.000000     21.00000    319.000000      3.000000      0.000000\n",
              "max       95.000000     31.00000   4918.000000     63.000000      1.000000"
            ],
            "text/html": [
              "\n",
              "  <div id=\"df-75f603d8-4169-483f-9af7-b7505049d34a\">\n",
              "    <div class=\"colab-df-container\">\n",
              "      <div>\n",
              "<style scoped>\n",
              "    .dataframe tbody tr th:only-of-type {\n",
              "        vertical-align: middle;\n",
              "    }\n",
              "\n",
              "    .dataframe tbody tr th {\n",
              "        vertical-align: top;\n",
              "    }\n",
              "\n",
              "    .dataframe thead th {\n",
              "        text-align: right;\n",
              "    }\n",
              "</style>\n",
              "<table border=\"1\" class=\"dataframe\">\n",
              "  <thead>\n",
              "    <tr style=\"text-align: right;\">\n",
              "      <th></th>\n",
              "      <th>age</th>\n",
              "      <th>day</th>\n",
              "      <th>dur</th>\n",
              "      <th>num_calls</th>\n",
              "      <th>Target</th>\n",
              "    </tr>\n",
              "  </thead>\n",
              "  <tbody>\n",
              "    <tr>\n",
              "      <th>count</th>\n",
              "      <td>45205.000000</td>\n",
              "      <td>45205.00000</td>\n",
              "      <td>45205.000000</td>\n",
              "      <td>45205.000000</td>\n",
              "      <td>45205.000000</td>\n",
              "    </tr>\n",
              "    <tr>\n",
              "      <th>mean</th>\n",
              "      <td>40.937087</td>\n",
              "      <td>15.80688</td>\n",
              "      <td>258.183055</td>\n",
              "      <td>2.763898</td>\n",
              "      <td>0.117000</td>\n",
              "    </tr>\n",
              "    <tr>\n",
              "      <th>std</th>\n",
              "      <td>10.619130</td>\n",
              "      <td>8.32234</td>\n",
              "      <td>257.538504</td>\n",
              "      <td>3.098189</td>\n",
              "      <td>0.321424</td>\n",
              "    </tr>\n",
              "    <tr>\n",
              "      <th>min</th>\n",
              "      <td>18.000000</td>\n",
              "      <td>1.00000</td>\n",
              "      <td>0.000000</td>\n",
              "      <td>1.000000</td>\n",
              "      <td>0.000000</td>\n",
              "    </tr>\n",
              "    <tr>\n",
              "      <th>25%</th>\n",
              "      <td>33.000000</td>\n",
              "      <td>8.00000</td>\n",
              "      <td>103.000000</td>\n",
              "      <td>1.000000</td>\n",
              "      <td>0.000000</td>\n",
              "    </tr>\n",
              "    <tr>\n",
              "      <th>50%</th>\n",
              "      <td>39.000000</td>\n",
              "      <td>16.00000</td>\n",
              "      <td>180.000000</td>\n",
              "      <td>2.000000</td>\n",
              "      <td>0.000000</td>\n",
              "    </tr>\n",
              "    <tr>\n",
              "      <th>75%</th>\n",
              "      <td>48.000000</td>\n",
              "      <td>21.00000</td>\n",
              "      <td>319.000000</td>\n",
              "      <td>3.000000</td>\n",
              "      <td>0.000000</td>\n",
              "    </tr>\n",
              "    <tr>\n",
              "      <th>max</th>\n",
              "      <td>95.000000</td>\n",
              "      <td>31.00000</td>\n",
              "      <td>4918.000000</td>\n",
              "      <td>63.000000</td>\n",
              "      <td>1.000000</td>\n",
              "    </tr>\n",
              "  </tbody>\n",
              "</table>\n",
              "</div>\n",
              "      <button class=\"colab-df-convert\" onclick=\"convertToInteractive('df-75f603d8-4169-483f-9af7-b7505049d34a')\"\n",
              "              title=\"Convert this dataframe to an interactive table.\"\n",
              "              style=\"display:none;\">\n",
              "        \n",
              "  <svg xmlns=\"http://www.w3.org/2000/svg\" height=\"24px\"viewBox=\"0 0 24 24\"\n",
              "       width=\"24px\">\n",
              "    <path d=\"M0 0h24v24H0V0z\" fill=\"none\"/>\n",
              "    <path d=\"M18.56 5.44l.94 2.06.94-2.06 2.06-.94-2.06-.94-.94-2.06-.94 2.06-2.06.94zm-11 1L8.5 8.5l.94-2.06 2.06-.94-2.06-.94L8.5 2.5l-.94 2.06-2.06.94zm10 10l.94 2.06.94-2.06 2.06-.94-2.06-.94-.94-2.06-.94 2.06-2.06.94z\"/><path d=\"M17.41 7.96l-1.37-1.37c-.4-.4-.92-.59-1.43-.59-.52 0-1.04.2-1.43.59L10.3 9.45l-7.72 7.72c-.78.78-.78 2.05 0 2.83L4 21.41c.39.39.9.59 1.41.59.51 0 1.02-.2 1.41-.59l7.78-7.78 2.81-2.81c.8-.78.8-2.07 0-2.86zM5.41 20L4 18.59l7.72-7.72 1.47 1.35L5.41 20z\"/>\n",
              "  </svg>\n",
              "      </button>\n",
              "      \n",
              "  <style>\n",
              "    .colab-df-container {\n",
              "      display:flex;\n",
              "      flex-wrap:wrap;\n",
              "      gap: 12px;\n",
              "    }\n",
              "\n",
              "    .colab-df-convert {\n",
              "      background-color: #E8F0FE;\n",
              "      border: none;\n",
              "      border-radius: 50%;\n",
              "      cursor: pointer;\n",
              "      display: none;\n",
              "      fill: #1967D2;\n",
              "      height: 32px;\n",
              "      padding: 0 0 0 0;\n",
              "      width: 32px;\n",
              "    }\n",
              "\n",
              "    .colab-df-convert:hover {\n",
              "      background-color: #E2EBFA;\n",
              "      box-shadow: 0px 1px 2px rgba(60, 64, 67, 0.3), 0px 1px 3px 1px rgba(60, 64, 67, 0.15);\n",
              "      fill: #174EA6;\n",
              "    }\n",
              "\n",
              "    [theme=dark] .colab-df-convert {\n",
              "      background-color: #3B4455;\n",
              "      fill: #D2E3FC;\n",
              "    }\n",
              "\n",
              "    [theme=dark] .colab-df-convert:hover {\n",
              "      background-color: #434B5C;\n",
              "      box-shadow: 0px 1px 3px 1px rgba(0, 0, 0, 0.15);\n",
              "      filter: drop-shadow(0px 1px 2px rgba(0, 0, 0, 0.3));\n",
              "      fill: #FFFFFF;\n",
              "    }\n",
              "  </style>\n",
              "\n",
              "      <script>\n",
              "        const buttonEl =\n",
              "          document.querySelector('#df-75f603d8-4169-483f-9af7-b7505049d34a button.colab-df-convert');\n",
              "        buttonEl.style.display =\n",
              "          google.colab.kernel.accessAllowed ? 'block' : 'none';\n",
              "\n",
              "        async function convertToInteractive(key) {\n",
              "          const element = document.querySelector('#df-75f603d8-4169-483f-9af7-b7505049d34a');\n",
              "          const dataTable =\n",
              "            await google.colab.kernel.invokeFunction('convertToInteractive',\n",
              "                                                     [key], {});\n",
              "          if (!dataTable) return;\n",
              "\n",
              "          const docLinkHtml = 'Like what you see? Visit the ' +\n",
              "            '<a target=\"_blank\" href=https://colab.research.google.com/notebooks/data_table.ipynb>data table notebook</a>'\n",
              "            + ' to learn more about interactive tables.';\n",
              "          element.innerHTML = '';\n",
              "          dataTable['output_type'] = 'display_data';\n",
              "          await google.colab.output.renderOutput(dataTable, element);\n",
              "          const docLink = document.createElement('div');\n",
              "          docLink.innerHTML = docLinkHtml;\n",
              "          element.appendChild(docLink);\n",
              "        }\n",
              "      </script>\n",
              "    </div>\n",
              "  </div>\n",
              "  "
            ]
          },
          "metadata": {},
          "execution_count": 24
        }
      ]
    },
    {
      "cell_type": "markdown",
      "source": [
        "### **Age**"
      ],
      "metadata": {
        "id": "b6eZEgSrI-jp"
      }
    },
    {
      "cell_type": "code",
      "source": [
        "# Box plot\n",
        "\n",
        "plt.figure(figsize=(4,3))\n",
        "sns.boxplot(x=df['age'])"
      ],
      "metadata": {
        "colab": {
          "base_uri": "https://localhost:8080/",
          "height": 328
        },
        "id": "08BynLS4HzPy",
        "outputId": "bfacb4f8-c759-450e-b2d1-7dbe026d6440"
      },
      "execution_count": 25,
      "outputs": [
        {
          "output_type": "execute_result",
          "data": {
            "text/plain": [
              "<Axes: xlabel='age'>"
            ]
          },
          "metadata": {},
          "execution_count": 25
        },
        {
          "output_type": "display_data",
          "data": {
            "text/plain": [
              "<Figure size 400x300 with 1 Axes>"
            ],
            "image/png": "[encoded data removed]"
          },
          "metadata": {}
        }
      ]
    },
    {
      "cell_type": "code",
      "source": [
        "# From above plot, we can see that there are many data points on the whisker.\n",
        "\n",
        "# Getting the IQR for 'age'\n",
        "\n",
        "iqr = df.age.quantile(0.75)-df.age.quantile(0.25)\n",
        "Upper_threshold = df.age.quantile(0.75) + (1.5*iqr)\n",
        "Lower_threshold = df.age.quantile(0.25) - (1.5*iqr)\n",
        "Upper_threshold, Lower_threshold"
      ],
      "metadata": {
        "colab": {
          "base_uri": "https://localhost:8080/"
        },
        "id": "b5g9dxh0GwHk",
        "outputId": "02965aaf-dcab-430d-8d10-556af4941b12"
      },
      "execution_count": 26,
      "outputs": [
        {
          "output_type": "execute_result",
          "data": {
            "text/plain": [
              "(70.5, 10.5)"
            ]
          },
          "metadata": {},
          "execution_count": 26
        }
      ]
    },
    {
      "cell_type": "code",
      "source": [
        "# clipping outliers for age\n",
        "\n",
        "df.age = df.age.clip(10.5,70.5)"
      ],
      "metadata": {
        "id": "CMuzDRY4-ENP"
      },
      "execution_count": 27,
      "outputs": []
    },
    {
      "cell_type": "code",
      "source": [
        "# plotting Age column after outlier correction\n",
        "\n",
        "plt.figure(figsize=(4,3))\n",
        "sns.boxplot(x=df['age'],color='Cyan')"
      ],
      "metadata": {
        "colab": {
          "base_uri": "https://localhost:8080/",
          "height": 328
        },
        "id": "cR418nc_-EV5",
        "outputId": "724760c2-313d-4c8d-eac6-c06c9e761a3d"
      },
      "execution_count": 28,
      "outputs": [
        {
          "output_type": "execute_result",
          "data": {
            "text/plain": [
              "<Axes: xlabel='age'>"
            ]
          },
          "metadata": {},
          "execution_count": 28
        },
        {
          "output_type": "display_data",
          "data": {
            "text/plain": [
              "<Figure size 400x300 with 1 Axes>"
            ],
            "image/png": "[encoded data removed]"
          },
          "metadata": {}
        }
      ]
    },
    {
      "cell_type": "markdown",
      "source": [
        "### **Day**"
      ],
      "metadata": {
        "id": "EI3YfhFPJbaQ"
      }
    },
    {
      "cell_type": "code",
      "source": [
        "# Box plot\n",
        "\n",
        "plt.figure(figsize=(4,3))\n",
        "sns.boxplot(x = df.day)"
      ],
      "metadata": {
        "colab": {
          "base_uri": "https://localhost:8080/",
          "height": 328
        },
        "id": "a2GlaU4A-EYz",
        "outputId": "d38cf07f-3179-4f37-d513-e45412bf334c"
      },
      "execution_count": 29,
      "outputs": [
        {
          "output_type": "execute_result",
          "data": {
            "text/plain": [
              "<Axes: xlabel='day'>"
            ]
          },
          "metadata": {},
          "execution_count": 29
        },
        {
          "output_type": "display_data",
          "data": {
            "text/plain": [
              "<Figure size 400x300 with 1 Axes>"
            ],
            "image/png": "[encoded data removed]"
          },
          "metadata": {}
        }
      ]
    },
    {
      "cell_type": "code",
      "source": [
        "# IQR for day\n",
        "\n",
        "iqr = df.day.quantile(0.75)-df.day.quantile(0.25)\n",
        "Upper_threshold = df.day.quantile(0.75) + (1.5*iqr)\n",
        "Lower_threshold = df.day.quantile(0.25) - (1.5*iqr)\n",
        "Upper_threshold, Lower_threshold"
      ],
      "metadata": {
        "colab": {
          "base_uri": "https://localhost:8080/"
        },
        "id": "98AnfP4T-Ebu",
        "outputId": "e4926f12-674d-4898-c9a5-e1ce8d4ee8e8"
      },
      "execution_count": 30,
      "outputs": [
        {
          "output_type": "execute_result",
          "data": {
            "text/plain": [
              "(40.5, -11.5)"
            ]
          },
          "metadata": {},
          "execution_count": 30
        }
      ]
    },
    {
      "cell_type": "markdown",
      "source": [
        "There are no data points on the whiskers as well as when checked with IQR the data is with in the upper and lower threshold. No correction needed"
      ],
      "metadata": {
        "id": "9xA2xl3bJoVD"
      }
    },
    {
      "cell_type": "markdown",
      "source": [
        "### **dur**"
      ],
      "metadata": {
        "id": "dUuOXQ7FKF9Y"
      }
    },
    {
      "cell_type": "code",
      "source": [
        "# Box plot\n",
        "\n",
        "plt.figure(figsize=(4,3))\n",
        "sns.boxplot(x=df.dur)"
      ],
      "metadata": {
        "colab": {
          "base_uri": "https://localhost:8080/",
          "height": 328
        },
        "id": "IrzvhoscJi3T",
        "outputId": "811a1982-69e4-4060-80f3-a2456f11c0eb"
      },
      "execution_count": 31,
      "outputs": [
        {
          "output_type": "execute_result",
          "data": {
            "text/plain": [
              "<Axes: xlabel='dur'>"
            ]
          },
          "metadata": {},
          "execution_count": 31
        },
        {
          "output_type": "display_data",
          "data": {
            "text/plain": [
              "<Figure size 400x300 with 1 Axes>"
            ],
            "image/png": "[encoded data removed]"
          },
          "metadata": {}
        }
      ]
    },
    {
      "cell_type": "code",
      "source": [
        "# From above plot, we can see that there are many data points on the whisker.\n",
        "\n",
        "# Getting the IQR for 'dur'\n",
        "\n",
        "iqr = df.dur.quantile(0.75)-df.dur.quantile(0.25)\n",
        "Upper_threshold = df.dur.quantile(0.75) + (1.5*iqr)\n",
        "Lower_threshold = df.dur.quantile(0.25) - (1.5*iqr)\n",
        "Upper_threshold, Lower_threshold"
      ],
      "metadata": {
        "colab": {
          "base_uri": "https://localhost:8080/"
        },
        "id": "XSIiLD3uKI2H",
        "outputId": "2973048a-6029-4ce4-8a17-0f40f4fd5060"
      },
      "execution_count": 32,
      "outputs": [
        {
          "output_type": "execute_result",
          "data": {
            "text/plain": [
              "(643.0, -221.0)"
            ]
          },
          "metadata": {},
          "execution_count": 32
        }
      ]
    },
    {
      "cell_type": "code",
      "source": [
        "# Clipping the outliers\n",
        "\n",
        "df.dur = df.dur.clip(-219.5,640.5)"
      ],
      "metadata": {
        "id": "v2DEMNBXKSS6"
      },
      "execution_count": 33,
      "outputs": []
    },
    {
      "cell_type": "code",
      "source": [
        "# plotting Dur column after outlier correction\n",
        "\n",
        "plt.figure(figsize=(4,3))\n",
        "sns.boxplot(x=df['dur'],color='Cyan')"
      ],
      "metadata": {
        "colab": {
          "base_uri": "https://localhost:8080/",
          "height": 328
        },
        "id": "1O9LwQ9oKV_W",
        "outputId": "0aec950c-450a-4a8c-bfcb-6b5c63e82a68"
      },
      "execution_count": 34,
      "outputs": [
        {
          "output_type": "execute_result",
          "data": {
            "text/plain": [
              "<Axes: xlabel='dur'>"
            ]
          },
          "metadata": {},
          "execution_count": 34
        },
        {
          "output_type": "display_data",
          "data": {
            "text/plain": [
              "<Figure size 400x300 with 1 Axes>"
            ],
            "image/png": "[encoded data removed]"
          },
          "metadata": {}
        }
      ]
    },
    {
      "cell_type": "markdown",
      "source": [
        "### **num_calls**"
      ],
      "metadata": {
        "id": "yt7xIAhuK6Ih"
      }
    },
    {
      "cell_type": "code",
      "source": [
        "# Box plot\n",
        "\n",
        "plt.figure(figsize=(4,3))\n",
        "sns.boxplot(x=df.num_calls)"
      ],
      "metadata": {
        "colab": {
          "base_uri": "https://localhost:8080/",
          "height": 328
        },
        "id": "-HCuvFF5KX1o",
        "outputId": "b1ebc86b-e636-48ff-acf1-ca32b3a965a2"
      },
      "execution_count": 35,
      "outputs": [
        {
          "output_type": "execute_result",
          "data": {
            "text/plain": [
              "<Axes: xlabel='num_calls'>"
            ]
          },
          "metadata": {},
          "execution_count": 35
        },
        {
          "output_type": "display_data",
          "data": {
            "text/plain": [
              "<Figure size 400x300 with 1 Axes>"
            ],
            "image/png": "[encoded data removed]"
          },
          "metadata": {}
        }
      ]
    },
    {
      "cell_type": "code",
      "source": [
        "# From above plot, we can see that there are many data points on the whisker.\n",
        "\n",
        "# Getting the IQR for 'num_calls'\n",
        "\n",
        "iqr = df.num_calls.quantile(0.75)-df.num_calls.quantile(0.25)\n",
        "Upper_threshold = df.num_calls.quantile(0.75) + (1.5*iqr)\n",
        "Lower_threshold = df.num_calls.quantile(0.25) - (1.5*iqr)\n",
        "Upper_threshold, Lower_threshold"
      ],
      "metadata": {
        "colab": {
          "base_uri": "https://localhost:8080/"
        },
        "id": "7NROxU4yLH0F",
        "outputId": "c32a6707-14ee-4a43-9851-312687935642"
      },
      "execution_count": 36,
      "outputs": [
        {
          "output_type": "execute_result",
          "data": {
            "text/plain": [
              "(6.0, -2.0)"
            ]
          },
          "metadata": {},
          "execution_count": 36
        }
      ]
    },
    {
      "cell_type": "code",
      "source": [
        "# Clipping the outliers\n",
        "\n",
        "df.num_calls = df.num_calls.clip(-2.0,6.0)"
      ],
      "metadata": {
        "id": "7yaljuUs-EfR"
      },
      "execution_count": 37,
      "outputs": []
    },
    {
      "cell_type": "code",
      "source": [
        "# plotting num_calls column after outlier correction\n",
        "\n",
        "plt.figure(figsize=(4,3))\n",
        "sns.boxplot(x=df['num_calls'],color='Cyan')"
      ],
      "metadata": {
        "colab": {
          "base_uri": "https://localhost:8080/",
          "height": 328
        },
        "id": "uIAeHJcgLNiR",
        "outputId": "69b8bd59-466d-4a2b-fe15-4de8d6fc44a1"
      },
      "execution_count": 38,
      "outputs": [
        {
          "output_type": "execute_result",
          "data": {
            "text/plain": [
              "<Axes: xlabel='num_calls'>"
            ]
          },
          "metadata": {},
          "execution_count": 38
        },
        {
          "output_type": "display_data",
          "data": {
            "text/plain": [
              "<Figure size 400x300 with 1 Axes>"
            ],
            "image/png": "[encoded data removed]"
          },
          "metadata": {}
        }
      ]
    },
    {
      "cell_type": "markdown",
      "source": [
        "# **EDA - Exploratory Data Analysis**"
      ],
      "metadata": {
        "id": "NBDWmfQnuwKV"
      }
    },
    {
      "cell_type": "markdown",
      "source": [
        "## **Age**"
      ],
      "metadata": {
        "id": "Mr6xOXHju7_W"
      }
    },
    {
      "cell_type": "code",
      "source": [
        "# Plotting the Age distribution to check the maximum and minimum reach\n",
        "\n",
        "plt.title('Age Distribution', fontsize = 12, color='black', fontweight='bold')\n",
        "plt.xlabel('Age',fontsize = 12, color='blue')\n",
        "plt.ylabel('Count',fontsize = 12, color='blue')\n",
        "sns.histplot((df.age),color='blue')"
      ],
      "metadata": {
        "colab": {
          "base_uri": "https://localhost:8080/",
          "height": 493
        },
        "id": "tRf7CiZnLQ8B",
        "outputId": "9c8db7f4-3259-4196-8342-a48f4fda57d5"
      },
      "execution_count": 39,
      "outputs": [
        {
          "output_type": "execute_result",
          "data": {
            "text/plain": [
              "<Axes: title={'center': 'Age Distribution'}, xlabel='Age', ylabel='Count'>"
            ]
          },
          "metadata": {},
          "execution_count": 39
        },
        {
          "output_type": "display_data",
          "data": {
            "text/plain": [
              "<Figure size 640x480 with 1 Axes>"
            ],
            "image/png": "[encoded data removed]"
          },
          "metadata": {}
        }
      ]
    },
    {
      "cell_type": "markdown",
      "source": [
        "The maximum reach is between ages 30-40 yrs."
      ],
      "metadata": {
        "id": "L72qnGw0zmRw"
      }
    },
    {
      "cell_type": "code",
      "source": [
        "# Plotting the conversion rate of different ages.\n",
        "\n",
        "age_conversion_rates = df.groupby(\"age\")[\"Target\"].mean()\n",
        "sorted_age = age_conversion_rates.reset_index().sort_values(\"Target\")[\"age\"]\n",
        "plt.figure(figsize = (16,6))\n",
        "plt.title('Age Conversion Rate', fontsize = 12, color='black', fontweight='bold')\n",
        "plt.xlabel('Age',fontsize = 12, color='black')\n",
        "plt.ylabel('Count',fontsize = 12, color='black')\n",
        "sns.barplot(x = 'age', y = 'Target', data = df, order = sorted_age, color = 'blue')\n",
        "plt.xticks(rotation=50)\n",
        "plt.show()"
      ],
      "metadata": {
        "colab": {
          "base_uri": "https://localhost:8080/",
          "height": 587
        },
        "id": "O8b45xznLQ5S",
        "outputId": "6b5cd6f7-536b-4986-da19-bda668048e05"
      },
      "execution_count": 40,
      "outputs": [
        {
          "output_type": "display_data",
          "data": {
            "text/plain": [
              "<Figure size 1600x600 with 1 Axes>"
            ],
            "image/png": "[encoded data removed]"
          },
          "metadata": {}
        }
      ]
    },
    {
      "cell_type": "code",
      "source": [
        "bins = np.linspace(df.age.min(),df.age.max(),11)\n",
        "c=np.digitize(df.age,bins)\n",
        "plt.bar(bins[:-1], [np.mean(df.Target.values[c == i]) for i in range(1, len(bins))], width = bins[1] - bins[0])\n",
        "plt.title('Age Conversion Rate', fontsize = 12, color='black', fontweight='bold')\n",
        "plt.xticks(rotation=50)\n",
        "\n",
        "\n",
        "plt.show()"
      ],
      "metadata": {
        "colab": {
          "base_uri": "https://localhost:8080/",
          "height": 461
        },
        "id": "GtmJTgA7ePp_",
        "outputId": "89db28bf-b217-47be-c0bc-8d449840a666"
      },
      "execution_count": 41,
      "outputs": [
        {
          "output_type": "display_data",
          "data": {
            "text/plain": [
              "<Figure size 640x480 with 1 Axes>"
            ],
            "image/png": "[encoded data removed]"
          },
          "metadata": {}
        }
      ]
    },
    {
      "cell_type": "markdown",
      "source": [
        "Highest Conversion can been seen in above 60+ years and below 20.\n",
        "\n",
        "\n"
      ],
      "metadata": {
        "id": "-Mwxflapy_OO"
      }
    },
    {
      "cell_type": "markdown",
      "source": [
        "## **Job**"
      ],
      "metadata": {
        "id": "bMDT0armzcnH"
      }
    },
    {
      "cell_type": "code",
      "source": [
        "# Plotting the Job classes to check the maximum and minimum reach\n",
        "\n",
        "# Calculating the value counts\n",
        "job_counts = df['job'].value_counts()\n",
        "\n",
        "# Plotting\n",
        "sns.barplot(x=job_counts.index, y=job_counts.values, color = 'blue')\n",
        "plt.title('Job Distribution', fontsize=14, color='black', fontweight='bold')\n",
        "plt.xlabel('Type Of Job', fontsize=12, color='black')\n",
        "plt.xticks(rotation=50)\n",
        "plt.ylabel('Count', fontsize=12, color='black')\n",
        "\n",
        "plt.show()"
      ],
      "metadata": {
        "colab": {
          "base_uri": "https://localhost:8080/",
          "height": 546
        },
        "id": "oZkNV9F1xzXu",
        "outputId": "84510d8d-1db2-416a-df1e-4921763f3a85"
      },
      "execution_count": 42,
      "outputs": [
        {
          "output_type": "display_data",
          "data": {
            "text/plain": [
              "<Figure size 640x480 with 1 Axes>"
            ],
            "image/png": "[encoded data removed]"
          },
          "metadata": {}
        }
      ]
    },
    {
      "cell_type": "markdown",
      "source": [
        "Blue-collar and management jobs have the highest reach and lowest is observed in student and housemaids"
      ],
      "metadata": {
        "id": "wpPEZihD0e7Q"
      }
    },
    {
      "cell_type": "code",
      "source": [
        "# Plotting the conversion rate of different job types.\n",
        "\n",
        "job_conversion_rates = df.groupby(\"job\")[\"Target\"].mean()\n",
        "sorted_job = job_conversion_rates.reset_index().sort_values(\"Target\")[\"job\"]\n",
        "plt.figure(figsize = (16,6))\n",
        "plt.title('Job Conversion Rate', fontsize = 12, color='black', fontweight='bold')\n",
        "sns.barplot(x = 'job', y = 'Target', data = df, order = sorted_job, color = 'blue')\n",
        "plt.xticks(rotation=50)\n",
        "plt.show()"
      ],
      "metadata": {
        "colab": {
          "base_uri": "https://localhost:8080/",
          "height": 634
        },
        "id": "mzS6uJ2Uzx5g",
        "outputId": "24e62df3-36d4-45e4-adb5-742145fcd08b"
      },
      "execution_count": 43,
      "outputs": [
        {
          "output_type": "display_data",
          "data": {
            "text/plain": [
              "<Figure size 1600x600 with 1 Axes>"
            ],
            "image/png": "[encoded data removed]"
          },
          "metadata": {}
        }
      ]
    },
    {
      "cell_type": "markdown",
      "source": [
        "Highest Conversion - Student and Retired\n",
        "\n",
        "Lowest Conversion - Blue-collar and entrepreneur"
      ],
      "metadata": {
        "id": "NujvzWFP0qRo"
      }
    },
    {
      "cell_type": "markdown",
      "source": [
        "## **marital**"
      ],
      "metadata": {
        "id": "T4quNiWN00Ta"
      }
    },
    {
      "cell_type": "code",
      "source": [
        "# Plotting the marital classes to check the maximum and minimum reach\n",
        "\n",
        "# Calculating the value counts\n",
        "marital_counts = df['marital'].value_counts()\n",
        "\n",
        "# Plotting\n",
        "sns.barplot(x=marital_counts.index, y=marital_counts.values, color = 'blue')\n",
        "plt.title('Marital Distribution', fontsize=14, color='black', fontweight='bold')\n",
        "plt.xlabel('Marital status', fontsize=12, color='black')\n",
        "plt.xticks(rotation=50)\n",
        "plt.ylabel('Count', fontsize=12, color='black')\n",
        "\n",
        "plt.show()"
      ],
      "metadata": {
        "colab": {
          "base_uri": "https://localhost:8080/",
          "height": 518
        },
        "id": "MQp9RiCQwpTh",
        "outputId": "787b424d-5779-4f22-ad2d-3fec0bb99846"
      },
      "execution_count": 44,
      "outputs": [
        {
          "output_type": "display_data",
          "data": {
            "text/plain": [
              "<Figure size 640x480 with 1 Axes>"
            ],
            "image/png": "[encoded data removed]"
          },
          "metadata": {}
        }
      ]
    },
    {
      "cell_type": "markdown",
      "source": [
        "Maximim reach is towards married and lowest towards divorced."
      ],
      "metadata": {
        "id": "65YTUakJ1po5"
      }
    },
    {
      "cell_type": "code",
      "source": [
        "# Plotting the conversion rate of different marital types.\n",
        "\n",
        "marital_conversion_rates = df.groupby(\"marital\")[\"Target\"].mean()\n",
        "sorted_marital = marital_conversion_rates.reset_index().sort_values(\"Target\")[\"marital\"]\n",
        "plt.figure(figsize = (8,6))\n",
        "plt.title('Marital Conversion Rate', fontsize = 12, color='black', fontweight='bold')\n",
        "sns.barplot(x = 'marital', y = 'Target', data = df, order = sorted_marital, color = 'blue')\n",
        "plt.xticks(rotation=00)\n",
        "plt.show()"
      ],
      "metadata": {
        "colab": {
          "base_uri": "https://localhost:8080/",
          "height": 564
        },
        "id": "uMbo67xTw75T",
        "outputId": "5593d052-9abc-448a-dd4c-3fc9bd345e20"
      },
      "execution_count": 45,
      "outputs": [
        {
          "output_type": "display_data",
          "data": {
            "text/plain": [
              "<Figure size 800x600 with 1 Axes>"
            ],
            "image/png": "[encoded data removed]"
          },
          "metadata": {}
        }
      ]
    },
    {
      "cell_type": "markdown",
      "source": [
        "Highest Conversion - Single\n",
        "\n",
        "Lowest Conversion - Married"
      ],
      "metadata": {
        "id": "QVlVYH3i1xX3"
      }
    },
    {
      "cell_type": "markdown",
      "source": [
        "## **education_qual**"
      ],
      "metadata": {
        "id": "i_65nqXo2OPE"
      }
    },
    {
      "cell_type": "code",
      "source": [
        "# Plotting the education qualifications to check the maximum and minimum reach\n",
        "\n",
        "# Calculating the value counts\n",
        "education_qual_counts = df['education_qual'].value_counts()\n",
        "\n",
        "# Plotting\n",
        "sns.barplot(x=education_qual_counts.index, y=education_qual_counts.values, color = 'blue')\n",
        "plt.title('Educational Qualification Distribution', fontsize=14, color='black', fontweight='bold')\n",
        "plt.xlabel('Qualification types', fontsize=12, color='black')\n",
        "plt.xticks(rotation=00)\n",
        "plt.ylabel('Count', fontsize=12, color='black')\n",
        "\n",
        "plt.show()"
      ],
      "metadata": {
        "colab": {
          "base_uri": "https://localhost:8080/",
          "height": 477
        },
        "id": "xigwfZ2_LQ10",
        "outputId": "5dd83e68-9779-4c93-bfd2-e3c14fb4ad59"
      },
      "execution_count": 46,
      "outputs": [
        {
          "output_type": "display_data",
          "data": {
            "text/plain": [
              "<Figure size 640x480 with 1 Axes>"
            ],
            "image/png": "[encoded data removed]"
          },
          "metadata": {}
        }
      ]
    },
    {
      "cell_type": "markdown",
      "source": [
        "Maximum reach has been to secondary type of qualification and least to primary."
      ],
      "metadata": {
        "id": "qaVpuW0t2n5D"
      }
    },
    {
      "cell_type": "code",
      "source": [
        "# Plotting the conversion rate of different educational qualification types.\n",
        "\n",
        "education_qual_conversion_rates = df.groupby(\"education_qual\")[\"Target\"].mean()\n",
        "sorted_education_qual = education_qual_conversion_rates.reset_index().sort_values(\"Target\")[\"education_qual\"]\n",
        "plt.figure(figsize = (8,6))\n",
        "plt.title('Education Qualification Conversion Rate', fontsize = 12, color='black', fontweight='bold')\n",
        "sns.barplot(x = 'education_qual', y = 'Target', data = df, order = sorted_education_qual, color = 'blue')\n",
        "plt.xticks(rotation=00)\n",
        "plt.show()"
      ],
      "metadata": {
        "colab": {
          "base_uri": "https://localhost:8080/",
          "height": 564
        },
        "id": "BWbB2YEALQyQ",
        "outputId": "2432a16e-7a0d-49ca-84fd-08c05c4d55de"
      },
      "execution_count": 47,
      "outputs": [
        {
          "output_type": "display_data",
          "data": {
            "text/plain": [
              "<Figure size 800x600 with 1 Axes>"
            ],
            "image/png": "[encoded data removed]"
          },
          "metadata": {}
        }
      ]
    },
    {
      "cell_type": "markdown",
      "source": [
        "Highest Conversion - Tertiary\n",
        "\n",
        "Lowest Conversion - Primary"
      ],
      "metadata": {
        "id": "X8WX8NxX3PNJ"
      }
    },
    {
      "cell_type": "markdown",
      "source": [
        "## **call_type**"
      ],
      "metadata": {
        "id": "47Ud4YUW3X4j"
      }
    },
    {
      "cell_type": "code",
      "source": [
        "# Plotting the call types to check the maximum and minimum reach\n",
        "\n",
        "# Calculating the value counts\n",
        "call_type_counts = df['call_type'].value_counts()\n",
        "\n",
        "# Plotting\n",
        "sns.barplot(x=call_type_counts.index, y=call_type_counts.values, color = 'blue')\n",
        "plt.title('Call type Distribution', fontsize=14, color='black', fontweight='bold')\n",
        "plt.xlabel('Call types', fontsize=12, color='black')\n",
        "plt.xticks(rotation=00)\n",
        "plt.ylabel('Count', fontsize=12, color='black')\n",
        "\n",
        "plt.show()"
      ],
      "metadata": {
        "colab": {
          "base_uri": "https://localhost:8080/",
          "height": 477
        },
        "id": "aCGBu8M8LQuu",
        "outputId": "695d15d2-994c-4277-eaaa-1792082695d1"
      },
      "execution_count": 48,
      "outputs": [
        {
          "output_type": "display_data",
          "data": {
            "text/plain": [
              "<Figure size 640x480 with 1 Axes>"
            ],
            "image/png": "[encoded data removed]"
          },
          "metadata": {}
        }
      ]
    },
    {
      "cell_type": "markdown",
      "source": [
        "Maximum reach is through cellular and minimum through telephone."
      ],
      "metadata": {
        "id": "-WVafaUE3n8W"
      }
    },
    {
      "cell_type": "code",
      "source": [
        "# Plotting the conversion rate of different call types.\n",
        "\n",
        "call_type_conversion_rates = df.groupby(\"call_type\")[\"Target\"].mean()\n",
        "sorted_call_type = call_type_conversion_rates.reset_index().sort_values(\"Target\")[\"call_type\"]\n",
        "plt.figure(figsize = (8,6))\n",
        "plt.title('Call Type Conversion Rate', fontsize = 12, color='black', fontweight='bold')\n",
        "sns.barplot(x = 'call_type', y = 'Target', data = df, order = sorted_call_type, color = 'blue')\n",
        "plt.xticks(rotation=00)\n",
        "plt.show()"
      ],
      "metadata": {
        "colab": {
          "base_uri": "https://localhost:8080/",
          "height": 564
        },
        "id": "ZbmHr2_RLQrR",
        "outputId": "faf2b55e-d689-47e2-ac54-928cc34d0664"
      },
      "execution_count": 49,
      "outputs": [
        {
          "output_type": "display_data",
          "data": {
            "text/plain": [
              "<Figure size 800x600 with 1 Axes>"
            ],
            "image/png": "[encoded data removed]"
          },
          "metadata": {}
        }
      ]
    },
    {
      "cell_type": "markdown",
      "source": [
        "Highest Conversion - Cellular\n",
        "\n",
        "Lowest Conversion - Unknown"
      ],
      "metadata": {
        "id": "g1xpIo6G4JD_"
      }
    },
    {
      "cell_type": "markdown",
      "source": [
        "## **Day**"
      ],
      "metadata": {
        "id": "nmMCqrEo4tw4"
      }
    },
    {
      "cell_type": "code",
      "source": [
        "# Plotting the Day distribution to check the maximum and minimum reach\n",
        "\n",
        "plt.title('Day Distribution', fontsize = 12, color='black', fontweight='bold')\n",
        "plt.xlabel('Day',fontsize = 12, color='black')\n",
        "plt.ylabel('Count',fontsize = 12, color='black')\n",
        "sns.histplot((df.day),color='blue')"
      ],
      "metadata": {
        "colab": {
          "base_uri": "https://localhost:8080/",
          "height": 493
        },
        "id": "rjYWkCWC4PhA",
        "outputId": "20c4b0e2-8ce1-4df7-b5d4-d9c184f8c0c7"
      },
      "execution_count": 50,
      "outputs": [
        {
          "output_type": "execute_result",
          "data": {
            "text/plain": [
              "<Axes: title={'center': 'Day Distribution'}, xlabel='Day', ylabel='Count'>"
            ]
          },
          "metadata": {},
          "execution_count": 50
        },
        {
          "output_type": "display_data",
          "data": {
            "text/plain": [
              "<Figure size 640x480 with 1 Axes>"
            ],
            "image/png": "[encoded data removed]"
          },
          "metadata": {}
        }
      ]
    },
    {
      "cell_type": "markdown",
      "source": [
        "Maximum reach is on the mid month and lowest at start of the month"
      ],
      "metadata": {
        "id": "8_ML_L6k5ESY"
      }
    },
    {
      "cell_type": "code",
      "source": [
        "bins = np.linspace(df.day.min(),df.day.max(),11)\n",
        "c=np.digitize(df.day,bins)\n",
        "plt.bar(bins[:-1], [np.mean(df.Target.values[c == i]) for i in range(1, len(bins))], width = bins[1] - bins[0])\n",
        "plt.title('Day Conversion Rate', fontsize = 12, color='black', fontweight='bold')\n",
        "plt.xticks(rotation=50)\n",
        "\n",
        "\n",
        "plt.show()"
      ],
      "metadata": {
        "colab": {
          "base_uri": "https://localhost:8080/",
          "height": 461
        },
        "id": "08hB767mdh0b",
        "outputId": "eb782fce-d818-4d3f-e514-b21f16de2ce3"
      },
      "execution_count": 51,
      "outputs": [
        {
          "output_type": "display_data",
          "data": {
            "text/plain": [
              "<Figure size 640x480 with 1 Axes>"
            ],
            "image/png": "[encoded data removed]"
          },
          "metadata": {}
        }
      ]
    },
    {
      "cell_type": "markdown",
      "source": [
        "Across the month, there are 3 peaks for highest conversion.\n",
        "\n",
        "Highest Conversion - 1st day and 10th day of the month\n",
        "\n",
        "Lowest Conversion - 19th day and 20th day of the month"
      ],
      "metadata": {
        "id": "0xsbCuu55oYV"
      }
    },
    {
      "cell_type": "markdown",
      "source": [
        "## **Month**"
      ],
      "metadata": {
        "id": "-JxDo8Ku55KX"
      }
    },
    {
      "cell_type": "code",
      "source": [
        "# Plotting the months to check the maximum and minimum reach\n",
        "\n",
        "# Calculating the value counts\n",
        "mon_counts = df['mon'].value_counts()\n",
        "\n",
        "# Plotting\n",
        "sns.barplot(x=mon_counts.index, y=mon_counts.values, color = 'blue')\n",
        "plt.title('Month Distribution', fontsize=14, color='black', fontweight='bold')\n",
        "plt.xlabel('Months', fontsize=12, color='black')\n",
        "plt.xticks(rotation=50)\n",
        "plt.ylabel('Count', fontsize=12, color='black')\n",
        "\n",
        "plt.show()"
      ],
      "metadata": {
        "colab": {
          "base_uri": "https://localhost:8080/",
          "height": 495
        },
        "id": "8FdtKpIw4PbM",
        "outputId": "508e93b8-743c-487c-cb8c-39e0434c58aa"
      },
      "execution_count": 52,
      "outputs": [
        {
          "output_type": "display_data",
          "data": {
            "text/plain": [
              "<Figure size 640x480 with 1 Axes>"
            ],
            "image/png": "[encoded data removed]"
          },
          "metadata": {}
        }
      ]
    },
    {
      "cell_type": "markdown",
      "source": [
        "May month has the highest reach and december month the lowest"
      ],
      "metadata": {
        "id": "1y8ZsJYZ6Azp"
      }
    },
    {
      "cell_type": "code",
      "source": [
        "# Plotting the conversion rate of different months.\n",
        "\n",
        "mon_conversion_rates = df.groupby(\"mon\")[\"Target\"].mean()\n",
        "sorted_mon = mon_conversion_rates.reset_index().sort_values(\"Target\")[\"mon\"]\n",
        "plt.figure(figsize = (8,6))\n",
        "plt.title('Months Conversion Rate', fontsize = 12, color='black', fontweight='bold')\n",
        "sns.barplot(x = 'mon', y = 'Target', data = df, order = sorted_mon, color = 'blue')\n",
        "plt.xticks(rotation=50)\n",
        "plt.show()"
      ],
      "metadata": {
        "colab": {
          "base_uri": "https://localhost:8080/",
          "height": 582
        },
        "id": "qYpoTIwO4PYb",
        "outputId": "910547d9-750a-4e61-d69a-e6e3f32c3717"
      },
      "execution_count": 53,
      "outputs": [
        {
          "output_type": "display_data",
          "data": {
            "text/plain": [
              "<Figure size 800x600 with 1 Axes>"
            ],
            "image/png": "[encoded data removed]"
          },
          "metadata": {}
        }
      ]
    },
    {
      "cell_type": "markdown",
      "source": [
        "Highest Conversion - March and December\n",
        "\n",
        "Lowest Conversion - May and July"
      ],
      "metadata": {
        "id": "WxGDZpvv6dTM"
      }
    },
    {
      "cell_type": "markdown",
      "source": [
        "## **Duration**"
      ],
      "metadata": {
        "id": "_6qEGY4f7XAB"
      }
    },
    {
      "cell_type": "code",
      "source": [
        "# Plotting the duration distribution to check the maximum and minimum reach\n",
        "\n",
        "plt.title('Duration Distribution', fontsize = 12, color='black', fontweight='bold')\n",
        "plt.xlabel('Duration',fontsize = 12, color='black')\n",
        "plt.ylabel('Count',fontsize = 12, color='black')\n",
        "sns.histplot((df.dur),color='blue')"
      ],
      "metadata": {
        "colab": {
          "base_uri": "https://localhost:8080/",
          "height": 493
        },
        "id": "4mQ8crWZ4PVS",
        "outputId": "d8307042-5f4d-472e-d116-a20858e0fdd9"
      },
      "execution_count": 54,
      "outputs": [
        {
          "output_type": "execute_result",
          "data": {
            "text/plain": [
              "<Axes: title={'center': 'Duration Distribution'}, xlabel='Duration', ylabel='Count'>"
            ]
          },
          "metadata": {},
          "execution_count": 54
        },
        {
          "output_type": "display_data",
          "data": {
            "text/plain": [
              "<Figure size 640x480 with 1 Axes>"
            ],
            "image/png": "[encoded data removed]"
          },
          "metadata": {}
        }
      ]
    },
    {
      "cell_type": "markdown",
      "source": [
        "Maximum duration for calls is between 90-150 secs."
      ],
      "metadata": {
        "id": "Bx9wr1jm7mQU"
      }
    },
    {
      "cell_type": "code",
      "source": [
        "# Plotting the conversion rate of different durations.\n",
        "\n",
        "#dur_conversion_rates = df.groupby(\"dur\")[\"Target\"].mean()\n",
        "#sorted_dur = dur_conversion_rates.reset_index().sort_values(\"Target\")[\"dur\"]\n",
        "#plt.figure(figsize = (15,6))\n",
        "#plt.title('Duration Conversion Rate', fontsize = 12, color='black', fontweight='bold')\n",
        "#sns.barplot(x = 'dur', y = 'Target', data = df, order = sorted_dur, color = 'blue')\n",
        "#plt.xticks(rotation=50)\n",
        "#plt.show()"
      ],
      "metadata": {
        "id": "pyvXI-1q4PSe"
      },
      "execution_count": 55,
      "outputs": []
    },
    {
      "cell_type": "code",
      "source": [
        "bins = np.linspace(df.dur.min(),df.dur.max(),11)\n",
        "c=np.digitize(df.dur,bins)\n",
        "plt.bar(bins[:-1], [np.mean(df.Target.values[c == i]) for i in range(1, len(bins))], width = bins[1] - bins[0])\n",
        "plt.title('Duration Conversion Rate', fontsize = 12, color='black', fontweight='bold')\n",
        "plt.xticks(rotation=50)\n",
        "\n",
        "\n",
        "plt.show()"
      ],
      "metadata": {
        "colab": {
          "base_uri": "https://localhost:8080/",
          "height": 467
        },
        "id": "6QOAhNWcvHgk",
        "outputId": "2f455a3c-9928-42f4-fef0-b90937e92c7a"
      },
      "execution_count": 56,
      "outputs": [
        {
          "output_type": "display_data",
          "data": {
            "text/plain": [
              "<Figure size 640x480 with 1 Axes>"
            ],
            "image/png": "[encoded data removed]"
          },
          "metadata": {}
        }
      ]
    },
    {
      "cell_type": "markdown",
      "source": [
        "As the duration of the calls increases, the conversion rate is also increasing."
      ],
      "metadata": {
        "id": "h9z0B4mwv9eA"
      }
    },
    {
      "cell_type": "markdown",
      "source": [
        "## **Number of calls**"
      ],
      "metadata": {
        "id": "KRgfZDki8vg_"
      }
    },
    {
      "cell_type": "code",
      "source": [
        "# Plotting the Number of calls to check the maximum and minimum reach\n",
        "\n",
        "# Calculating the value counts\n",
        "num_calls_counts = df['num_calls'].value_counts()\n",
        "\n",
        "# Plotting\n",
        "sns.barplot(x=num_calls_counts.index, y=num_calls_counts.values, color = 'blue')\n",
        "plt.title('Calls Distribution', fontsize=14, color='black', fontweight='bold')\n",
        "plt.xlabel('# of calls', fontsize=12, color='black')\n",
        "plt.xticks(rotation=00)\n",
        "plt.ylabel('Count', fontsize=12, color='black')\n",
        "\n",
        "plt.show()"
      ],
      "metadata": {
        "colab": {
          "base_uri": "https://localhost:8080/",
          "height": 477
        },
        "id": "C0eAC85c4PPq",
        "outputId": "fd2f66bb-e2f9-4587-ee9d-7f879decb8b4"
      },
      "execution_count": 57,
      "outputs": [
        {
          "output_type": "display_data",
          "data": {
            "text/plain": [
              "<Figure size 640x480 with 1 Axes>"
            ],
            "image/png": "[encoded data removed]"
          },
          "metadata": {}
        }
      ]
    },
    {
      "cell_type": "markdown",
      "source": [
        "Maximum calls to individual are 1."
      ],
      "metadata": {
        "id": "TvuujqfM89bK"
      }
    },
    {
      "cell_type": "code",
      "source": [
        "# Plotting the conversion rate of different number of calls.\n",
        "\n",
        "num_calls_conversion_rates = df.groupby(\"num_calls\")[\"Target\"].mean()\n",
        "sorted_num_calls = num_calls_conversion_rates.reset_index().sort_values(\"Target\")[\"num_calls\"]\n",
        "plt.figure(figsize = (8,6))\n",
        "plt.title('Number of calls Conversion Rate', fontsize = 12, color='black', fontweight='bold')\n",
        "sns.barplot(x = 'num_calls', y = 'Target', data = df, order = sorted_num_calls, color = 'blue')\n",
        "plt.xticks(rotation=00)\n",
        "plt.show()"
      ],
      "metadata": {
        "colab": {
          "base_uri": "https://localhost:8080/",
          "height": 564
        },
        "id": "K5A8rgWMLQi7",
        "outputId": "aa385d63-1e87-41ac-8ef8-44ee5b4371e5"
      },
      "execution_count": 58,
      "outputs": [
        {
          "output_type": "display_data",
          "data": {
            "text/plain": [
              "<Figure size 800x600 with 1 Axes>"
            ],
            "image/png": "[encoded data removed]"
          },
          "metadata": {}
        }
      ]
    },
    {
      "cell_type": "markdown",
      "source": [
        "From the above plot, it can be seen that fewer the calls more the conversion."
      ],
      "metadata": {
        "id": "fAar6Goj9r3y"
      }
    },
    {
      "cell_type": "markdown",
      "source": [
        "## **Previous Outcome**"
      ],
      "metadata": {
        "id": "MWuZP8de93i2"
      }
    },
    {
      "cell_type": "code",
      "source": [
        "# Plotting the previous outcomes to check the maximum and minimum reach\n",
        "\n",
        "# Calculating the value counts\n",
        "prev_outcome_counts = df['prev_outcome'].value_counts()\n",
        "\n",
        "# Plotting\n",
        "sns.barplot(x=prev_outcome_counts.index, y=prev_outcome_counts.values, color = 'blue')\n",
        "plt.title('Previous Outcome Distribution', fontsize=14, color='black', fontweight='bold')\n",
        "plt.xlabel('Previous Outcome', fontsize=12, color='black')\n",
        "plt.xticks(rotation=00)\n",
        "plt.ylabel('Count', fontsize=12, color='black')\n",
        "\n",
        "plt.show()"
      ],
      "metadata": {
        "colab": {
          "base_uri": "https://localhost:8080/",
          "height": 477
        },
        "id": "qDdPv-rA9wju",
        "outputId": "cec91926-46bd-4396-8d41-562b96ed65cf"
      },
      "execution_count": 59,
      "outputs": [
        {
          "output_type": "display_data",
          "data": {
            "text/plain": [
              "<Figure size 640x480 with 1 Axes>"
            ],
            "image/png": "[encoded data removed]"
          },
          "metadata": {}
        }
      ]
    },
    {
      "cell_type": "code",
      "source": [
        "# Plotting the conversion rate of previous outcomes.\n",
        "\n",
        "prev_outcome_conversion_rates = df.groupby(\"prev_outcome\")[\"Target\"].mean()\n",
        "sorted_prev_outcome = prev_outcome_conversion_rates.reset_index().sort_values(\"Target\")[\"prev_outcome\"]\n",
        "plt.figure(figsize = (8,6))\n",
        "plt.title('Previous Outcome Conversion Rate', fontsize = 12, color='black', fontweight='bold')\n",
        "sns.barplot(x = 'prev_outcome', y = 'Target', data = df, order = sorted_prev_outcome, color = 'blue')\n",
        "plt.xticks(rotation=00)\n",
        "plt.show()"
      ],
      "metadata": {
        "colab": {
          "base_uri": "https://localhost:8080/",
          "height": 564
        },
        "id": "oZFkgzZH-GrU",
        "outputId": "385e8dd6-3bf7-45d2-8dda-3de8785136fc"
      },
      "execution_count": 60,
      "outputs": [
        {
          "output_type": "display_data",
          "data": {
            "text/plain": [
              "<Figure size 800x600 with 1 Axes>"
            ],
            "image/png": "[encoded data removed]"
          },
          "metadata": {}
        }
      ]
    },
    {
      "cell_type": "markdown",
      "source": [
        "Highest Conversion - Previous success outcome\n",
        "\n",
        "Lowest Conversion - Previous outcome unknown"
      ],
      "metadata": {
        "id": "d9ZaejzA_T5G"
      }
    },
    {
      "cell_type": "markdown",
      "source": [
        "## **Target**"
      ],
      "metadata": {
        "id": "CQ_FFe_E_6Jv"
      }
    },
    {
      "cell_type": "code",
      "source": [
        "# Plotting the Target column\n",
        "\n",
        "# Calculating the value counts\n",
        "y_counts = df['y'].value_counts()\n",
        "\n",
        "# Plotting\n",
        "sns.barplot(x=y_counts.index, y=y_counts.values, color = 'blue')\n",
        "plt.title('Target Distribution', fontsize=14, color='black', fontweight='bold')\n",
        "plt.xlabel('Target', fontsize=12, color='black')\n",
        "plt.xticks(rotation=00)\n",
        "plt.ylabel('Count', fontsize=12, color='black')\n",
        "\n",
        "plt.show()"
      ],
      "metadata": {
        "colab": {
          "base_uri": "https://localhost:8080/",
          "height": 477
        },
        "id": "8cbvtKHD9wg4",
        "outputId": "7bf7810d-d3f9-43e0-a076-84d423a6c11c"
      },
      "execution_count": 61,
      "outputs": [
        {
          "output_type": "display_data",
          "data": {
            "text/plain": [
              "<Figure size 640x480 with 1 Axes>"
            ],
            "image/png": "[encoded data removed]"
          },
          "metadata": {}
        }
      ]
    },
    {
      "cell_type": "markdown",
      "source": [
        "From this plot, it can be understood that this is an unbalanced dataset with maximum data points under 'no' class."
      ],
      "metadata": {
        "id": "16arnUJrAA2O"
      }
    },
    {
      "cell_type": "markdown",
      "source": [
        "# **Encoding**"
      ],
      "metadata": {
        "id": "8P9-MWAvElu-"
      }
    },
    {
      "cell_type": "markdown",
      "source": [
        "## **job**"
      ],
      "metadata": {
        "id": "rEFr7RP9EqpE"
      }
    },
    {
      "cell_type": "code",
      "source": [
        "df.job.unique()"
      ],
      "metadata": {
        "colab": {
          "base_uri": "https://localhost:8080/"
        },
        "id": "INZ375sm9wd8",
        "outputId": "957cdae1-6976-401e-ee03-fb380db8d261"
      },
      "execution_count": 62,
      "outputs": [
        {
          "output_type": "execute_result",
          "data": {
            "text/plain": [
              "array(['management', 'technician', 'entrepreneur', 'blue-collar',\n",
              "       'retired', 'admin.', 'services', 'self-employed', 'unemployed',\n",
              "       'housemaid', 'student'], dtype=object)"
            ]
          },
          "metadata": {},
          "execution_count": 62
        }
      ]
    },
    {
      "cell_type": "code",
      "source": [
        "df['job'] = df['job'].map({'management':7, 'technician':4, 'entrepreneur':1, 'blue-collar':0, 'retired':9, 'admin.':6, 'services':3, 'self-employed':5, 'unemployed':8, 'housemaid':2, 'student':10})\n",
        "df.head(2)"
      ],
      "metadata": {
        "colab": {
          "base_uri": "https://localhost:8080/",
          "height": 112
        },
        "id": "vvIR9E0sEva7",
        "outputId": "98664792-c64e-443c-e0b1-53fe0437e3a2"
      },
      "execution_count": 63,
      "outputs": [
        {
          "output_type": "execute_result",
          "data": {
            "text/plain": [
              "    age  job  marital education_qual call_type  day  mon    dur  num_calls  \\\n",
              "0  58.0    7  married       tertiary   unknown    5  may  261.0          1   \n",
              "1  44.0    4   single      secondary   unknown    5  may  151.0          1   \n",
              "\n",
              "  prev_outcome   y  Target  \n",
              "0      unknown  no       0  \n",
              "1      unknown  no       0  "
            ],
            "text/html": [
              "\n",
              "  <div id=\"df-9869d6b3-f0c7-4e8f-b14e-d5b1b57434d8\">\n",
              "    <div class=\"colab-df-container\">\n",
              "      <div>\n",
              "<style scoped>\n",
              "    .dataframe tbody tr th:only-of-type {\n",
              "        vertical-align: middle;\n",
              "    }\n",
              "\n",
              "    .dataframe tbody tr th {\n",
              "        vertical-align: top;\n",
              "    }\n",
              "\n",
              "    .dataframe thead th {\n",
              "        text-align: right;\n",
              "    }\n",
              "</style>\n",
              "<table border=\"1\" class=\"dataframe\">\n",
              "  <thead>\n",
              "    <tr style=\"text-align: right;\">\n",
              "      <th></th>\n",
              "      <th>age</th>\n",
              "      <th>job</th>\n",
              "      <th>marital</th>\n",
              "      <th>education_qual</th>\n",
              "      <th>call_type</th>\n",
              "      <th>day</th>\n",
              "      <th>mon</th>\n",
              "      <th>dur</th>\n",
              "      <th>num_calls</th>\n",
              "      <th>prev_outcome</th>\n",
              "      <th>y</th>\n",
              "      <th>Target</th>\n",
              "    </tr>\n",
              "  </thead>\n",
              "  <tbody>\n",
              "    <tr>\n",
              "      <th>0</th>\n",
              "      <td>58.0</td>\n",
              "      <td>7</td>\n",
              "      <td>married</td>\n",
              "      <td>tertiary</td>\n",
              "      <td>unknown</td>\n",
              "      <td>5</td>\n",
              "      <td>may</td>\n",
              "      <td>261.0</td>\n",
              "      <td>1</td>\n",
              "      <td>unknown</td>\n",
              "      <td>no</td>\n",
              "      <td>0</td>\n",
              "    </tr>\n",
              "    <tr>\n",
              "      <th>1</th>\n",
              "      <td>44.0</td>\n",
              "      <td>4</td>\n",
              "      <td>single</td>\n",
              "      <td>secondary</td>\n",
              "      <td>unknown</td>\n",
              "      <td>5</td>\n",
              "      <td>may</td>\n",
              "      <td>151.0</td>\n",
              "      <td>1</td>\n",
              "      <td>unknown</td>\n",
              "      <td>no</td>\n",
              "      <td>0</td>\n",
              "    </tr>\n",
              "  </tbody>\n",
              "</table>\n",
              "</div>\n",
              "      <button class=\"colab-df-convert\" onclick=\"convertToInteractive('df-9869d6b3-f0c7-4e8f-b14e-d5b1b57434d8')\"\n",
              "              title=\"Convert this dataframe to an interactive table.\"\n",
              "              style=\"display:none;\">\n",
              "        \n",
              "  <svg xmlns=\"http://www.w3.org/2000/svg\" height=\"24px\"viewBox=\"0 0 24 24\"\n",
              "       width=\"24px\">\n",
              "    <path d=\"M0 0h24v24H0V0z\" fill=\"none\"/>\n",
              "    <path d=\"M18.56 5.44l.94 2.06.94-2.06 2.06-.94-2.06-.94-.94-2.06-.94 2.06-2.06.94zm-11 1L8.5 8.5l.94-2.06 2.06-.94-2.06-.94L8.5 2.5l-.94 2.06-2.06.94zm10 10l.94 2.06.94-2.06 2.06-.94-2.06-.94-.94-2.06-.94 2.06-2.06.94z\"/><path d=\"M17.41 7.96l-1.37-1.37c-.4-.4-.92-.59-1.43-.59-.52 0-1.04.2-1.43.59L10.3 9.45l-7.72 7.72c-.78.78-.78 2.05 0 2.83L4 21.41c.39.39.9.59 1.41.59.51 0 1.02-.2 1.41-.59l7.78-7.78 2.81-2.81c.8-.78.8-2.07 0-2.86zM5.41 20L4 18.59l7.72-7.72 1.47 1.35L5.41 20z\"/>\n",
              "  </svg>\n",
              "      </button>\n",
              "      \n",
              "  <style>\n",
              "    .colab-df-container {\n",
              "      display:flex;\n",
              "      flex-wrap:wrap;\n",
              "      gap: 12px;\n",
              "    }\n",
              "\n",
              "    .colab-df-convert {\n",
              "      background-color: #E8F0FE;\n",
              "      border: none;\n",
              "      border-radius: 50%;\n",
              "      cursor: pointer;\n",
              "      display: none;\n",
              "      fill: #1967D2;\n",
              "      height: 32px;\n",
              "      padding: 0 0 0 0;\n",
              "      width: 32px;\n",
              "    }\n",
              "\n",
              "    .colab-df-convert:hover {\n",
              "      background-color: #E2EBFA;\n",
              "      box-shadow: 0px 1px 2px rgba(60, 64, 67, 0.3), 0px 1px 3px 1px rgba(60, 64, 67, 0.15);\n",
              "      fill: #174EA6;\n",
              "    }\n",
              "\n",
              "    [theme=dark] .colab-df-convert {\n",
              "      background-color: #3B4455;\n",
              "      fill: #D2E3FC;\n",
              "    }\n",
              "\n",
              "    [theme=dark] .colab-df-convert:hover {\n",
              "      background-color: #434B5C;\n",
              "      box-shadow: 0px 1px 3px 1px rgba(0, 0, 0, 0.15);\n",
              "      filter: drop-shadow(0px 1px 2px rgba(0, 0, 0, 0.3));\n",
              "      fill: #FFFFFF;\n",
              "    }\n",
              "  </style>\n",
              "\n",
              "      <script>\n",
              "        const buttonEl =\n",
              "          document.querySelector('#df-9869d6b3-f0c7-4e8f-b14e-d5b1b57434d8 button.colab-df-convert');\n",
              "        buttonEl.style.display =\n",
              "          google.colab.kernel.accessAllowed ? 'block' : 'none';\n",
              "\n",
              "        async function convertToInteractive(key) {\n",
              "          const element = document.querySelector('#df-9869d6b3-f0c7-4e8f-b14e-d5b1b57434d8');\n",
              "          const dataTable =\n",
              "            await google.colab.kernel.invokeFunction('convertToInteractive',\n",
              "                                                     [key], {});\n",
              "          if (!dataTable) return;\n",
              "\n",
              "          const docLinkHtml = 'Like what you see? Visit the ' +\n",
              "            '<a target=\"_blank\" href=https://colab.research.google.com/notebooks/data_table.ipynb>data table notebook</a>'\n",
              "            + ' to learn more about interactive tables.';\n",
              "          element.innerHTML = '';\n",
              "          dataTable['output_type'] = 'display_data';\n",
              "          await google.colab.output.renderOutput(dataTable, element);\n",
              "          const docLink = document.createElement('div');\n",
              "          docLink.innerHTML = docLinkHtml;\n",
              "          element.appendChild(docLink);\n",
              "        }\n",
              "      </script>\n",
              "    </div>\n",
              "  </div>\n",
              "  "
            ]
          },
          "metadata": {},
          "execution_count": 63
        }
      ]
    },
    {
      "cell_type": "markdown",
      "source": [
        "## **Marital**"
      ],
      "metadata": {
        "id": "kQNx29n9GMuu"
      }
    },
    {
      "cell_type": "code",
      "source": [
        "df.marital.unique()"
      ],
      "metadata": {
        "colab": {
          "base_uri": "https://localhost:8080/"
        },
        "id": "2aNmKAKpGHbW",
        "outputId": "a12f7288-3313-46d2-92d8-5b25fe37eb08"
      },
      "execution_count": 64,
      "outputs": [
        {
          "output_type": "execute_result",
          "data": {
            "text/plain": [
              "array(['married', 'single', 'divorced'], dtype=object)"
            ]
          },
          "metadata": {},
          "execution_count": 64
        }
      ]
    },
    {
      "cell_type": "code",
      "source": [
        "df['marital'] = df['marital'].map({'married':0, 'single':2, 'divorced':1})\n",
        "df.head(2)"
      ],
      "metadata": {
        "colab": {
          "base_uri": "https://localhost:8080/",
          "height": 112
        },
        "id": "WXEpKHOiGTDH",
        "outputId": "e7e74e9d-cbdc-4389-9a47-9764e12b64f5"
      },
      "execution_count": 65,
      "outputs": [
        {
          "output_type": "execute_result",
          "data": {
            "text/plain": [
              "    age  job  marital education_qual call_type  day  mon    dur  num_calls  \\\n",
              "0  58.0    7        0       tertiary   unknown    5  may  261.0          1   \n",
              "1  44.0    4        2      secondary   unknown    5  may  151.0          1   \n",
              "\n",
              "  prev_outcome   y  Target  \n",
              "0      unknown  no       0  \n",
              "1      unknown  no       0  "
            ],
            "text/html": [
              "\n",
              "  <div id=\"df-a93cdf4a-4ade-477e-a07b-f47b49ee7c8e\">\n",
              "    <div class=\"colab-df-container\">\n",
              "      <div>\n",
              "<style scoped>\n",
              "    .dataframe tbody tr th:only-of-type {\n",
              "        vertical-align: middle;\n",
              "    }\n",
              "\n",
              "    .dataframe tbody tr th {\n",
              "        vertical-align: top;\n",
              "    }\n",
              "\n",
              "    .dataframe thead th {\n",
              "        text-align: right;\n",
              "    }\n",
              "</style>\n",
              "<table border=\"1\" class=\"dataframe\">\n",
              "  <thead>\n",
              "    <tr style=\"text-align: right;\">\n",
              "      <th></th>\n",
              "      <th>age</th>\n",
              "      <th>job</th>\n",
              "      <th>marital</th>\n",
              "      <th>education_qual</th>\n",
              "      <th>call_type</th>\n",
              "      <th>day</th>\n",
              "      <th>mon</th>\n",
              "      <th>dur</th>\n",
              "      <th>num_calls</th>\n",
              "      <th>prev_outcome</th>\n",
              "      <th>y</th>\n",
              "      <th>Target</th>\n",
              "    </tr>\n",
              "  </thead>\n",
              "  <tbody>\n",
              "    <tr>\n",
              "      <th>0</th>\n",
              "      <td>58.0</td>\n",
              "      <td>7</td>\n",
              "      <td>0</td>\n",
              "      <td>tertiary</td>\n",
              "      <td>unknown</td>\n",
              "      <td>5</td>\n",
              "      <td>may</td>\n",
              "      <td>261.0</td>\n",
              "      <td>1</td>\n",
              "      <td>unknown</td>\n",
              "      <td>no</td>\n",
              "      <td>0</td>\n",
              "    </tr>\n",
              "    <tr>\n",
              "      <th>1</th>\n",
              "      <td>44.0</td>\n",
              "      <td>4</td>\n",
              "      <td>2</td>\n",
              "      <td>secondary</td>\n",
              "      <td>unknown</td>\n",
              "      <td>5</td>\n",
              "      <td>may</td>\n",
              "      <td>151.0</td>\n",
              "      <td>1</td>\n",
              "      <td>unknown</td>\n",
              "      <td>no</td>\n",
              "      <td>0</td>\n",
              "    </tr>\n",
              "  </tbody>\n",
              "</table>\n",
              "</div>\n",
              "      <button class=\"colab-df-convert\" onclick=\"convertToInteractive('df-a93cdf4a-4ade-477e-a07b-f47b49ee7c8e')\"\n",
              "              title=\"Convert this dataframe to an interactive table.\"\n",
              "              style=\"display:none;\">\n",
              "        \n",
              "  <svg xmlns=\"http://www.w3.org/2000/svg\" height=\"24px\"viewBox=\"0 0 24 24\"\n",
              "       width=\"24px\">\n",
              "    <path d=\"M0 0h24v24H0V0z\" fill=\"none\"/>\n",
              "    <path d=\"M18.56 5.44l.94 2.06.94-2.06 2.06-.94-2.06-.94-.94-2.06-.94 2.06-2.06.94zm-11 1L8.5 8.5l.94-2.06 2.06-.94-2.06-.94L8.5 2.5l-.94 2.06-2.06.94zm10 10l.94 2.06.94-2.06 2.06-.94-2.06-.94-.94-2.06-.94 2.06-2.06.94z\"/><path d=\"M17.41 7.96l-1.37-1.37c-.4-.4-.92-.59-1.43-.59-.52 0-1.04.2-1.43.59L10.3 9.45l-7.72 7.72c-.78.78-.78 2.05 0 2.83L4 21.41c.39.39.9.59 1.41.59.51 0 1.02-.2 1.41-.59l7.78-7.78 2.81-2.81c.8-.78.8-2.07 0-2.86zM5.41 20L4 18.59l7.72-7.72 1.47 1.35L5.41 20z\"/>\n",
              "  </svg>\n",
              "      </button>\n",
              "      \n",
              "  <style>\n",
              "    .colab-df-container {\n",
              "      display:flex;\n",
              "      flex-wrap:wrap;\n",
              "      gap: 12px;\n",
              "    }\n",
              "\n",
              "    .colab-df-convert {\n",
              "      background-color: #E8F0FE;\n",
              "      border: none;\n",
              "      border-radius: 50%;\n",
              "      cursor: pointer;\n",
              "      display: none;\n",
              "      fill: #1967D2;\n",
              "      height: 32px;\n",
              "      padding: 0 0 0 0;\n",
              "      width: 32px;\n",
              "    }\n",
              "\n",
              "    .colab-df-convert:hover {\n",
              "      background-color: #E2EBFA;\n",
              "      box-shadow: 0px 1px 2px rgba(60, 64, 67, 0.3), 0px 1px 3px 1px rgba(60, 64, 67, 0.15);\n",
              "      fill: #174EA6;\n",
              "    }\n",
              "\n",
              "    [theme=dark] .colab-df-convert {\n",
              "      background-color: #3B4455;\n",
              "      fill: #D2E3FC;\n",
              "    }\n",
              "\n",
              "    [theme=dark] .colab-df-convert:hover {\n",
              "      background-color: #434B5C;\n",
              "      box-shadow: 0px 1px 3px 1px rgba(0, 0, 0, 0.15);\n",
              "      filter: drop-shadow(0px 1px 2px rgba(0, 0, 0, 0.3));\n",
              "      fill: #FFFFFF;\n",
              "    }\n",
              "  </style>\n",
              "\n",
              "      <script>\n",
              "        const buttonEl =\n",
              "          document.querySelector('#df-a93cdf4a-4ade-477e-a07b-f47b49ee7c8e button.colab-df-convert');\n",
              "        buttonEl.style.display =\n",
              "          google.colab.kernel.accessAllowed ? 'block' : 'none';\n",
              "\n",
              "        async function convertToInteractive(key) {\n",
              "          const element = document.querySelector('#df-a93cdf4a-4ade-477e-a07b-f47b49ee7c8e');\n",
              "          const dataTable =\n",
              "            await google.colab.kernel.invokeFunction('convertToInteractive',\n",
              "                                                     [key], {});\n",
              "          if (!dataTable) return;\n",
              "\n",
              "          const docLinkHtml = 'Like what you see? Visit the ' +\n",
              "            '<a target=\"_blank\" href=https://colab.research.google.com/notebooks/data_table.ipynb>data table notebook</a>'\n",
              "            + ' to learn more about interactive tables.';\n",
              "          element.innerHTML = '';\n",
              "          dataTable['output_type'] = 'display_data';\n",
              "          await google.colab.output.renderOutput(dataTable, element);\n",
              "          const docLink = document.createElement('div');\n",
              "          docLink.innerHTML = docLinkHtml;\n",
              "          element.appendChild(docLink);\n",
              "        }\n",
              "      </script>\n",
              "    </div>\n",
              "  </div>\n",
              "  "
            ]
          },
          "metadata": {},
          "execution_count": 65
        }
      ]
    },
    {
      "cell_type": "markdown",
      "source": [
        "## **education_qual**"
      ],
      "metadata": {
        "id": "bk1D2ANkGs-u"
      }
    },
    {
      "cell_type": "code",
      "source": [
        "df.education_qual.unique()"
      ],
      "metadata": {
        "colab": {
          "base_uri": "https://localhost:8080/"
        },
        "id": "1SnzzWz9GpRY",
        "outputId": "e126e5e7-ad4e-4f1a-e546-921adc44b899"
      },
      "execution_count": 66,
      "outputs": [
        {
          "output_type": "execute_result",
          "data": {
            "text/plain": [
              "array(['tertiary', 'secondary', 'primary'], dtype=object)"
            ]
          },
          "metadata": {},
          "execution_count": 66
        }
      ]
    },
    {
      "cell_type": "code",
      "source": [
        "df['education_qual'] = df['education_qual'].map({'tertiary':2, 'secondary':1, 'primary':0})\n",
        "df.head(2)"
      ],
      "metadata": {
        "colab": {
          "base_uri": "https://localhost:8080/",
          "height": 112
        },
        "id": "Q166V0B7Gwlc",
        "outputId": "3fb360ac-8696-4c3c-8d9c-c0b7e8499db5"
      },
      "execution_count": 67,
      "outputs": [
        {
          "output_type": "execute_result",
          "data": {
            "text/plain": [
              "    age  job  marital  education_qual call_type  day  mon    dur  num_calls  \\\n",
              "0  58.0    7        0               2   unknown    5  may  261.0          1   \n",
              "1  44.0    4        2               1   unknown    5  may  151.0          1   \n",
              "\n",
              "  prev_outcome   y  Target  \n",
              "0      unknown  no       0  \n",
              "1      unknown  no       0  "
            ],
            "text/html": [
              "\n",
              "  <div id=\"df-37fa5188-028b-4538-a671-3ad820a3da4f\">\n",
              "    <div class=\"colab-df-container\">\n",
              "      <div>\n",
              "<style scoped>\n",
              "    .dataframe tbody tr th:only-of-type {\n",
              "        vertical-align: middle;\n",
              "    }\n",
              "\n",
              "    .dataframe tbody tr th {\n",
              "        vertical-align: top;\n",
              "    }\n",
              "\n",
              "    .dataframe thead th {\n",
              "        text-align: right;\n",
              "    }\n",
              "</style>\n",
              "<table border=\"1\" class=\"dataframe\">\n",
              "  <thead>\n",
              "    <tr style=\"text-align: right;\">\n",
              "      <th></th>\n",
              "      <th>age</th>\n",
              "      <th>job</th>\n",
              "      <th>marital</th>\n",
              "      <th>education_qual</th>\n",
              "      <th>call_type</th>\n",
              "      <th>day</th>\n",
              "      <th>mon</th>\n",
              "      <th>dur</th>\n",
              "      <th>num_calls</th>\n",
              "      <th>prev_outcome</th>\n",
              "      <th>y</th>\n",
              "      <th>Target</th>\n",
              "    </tr>\n",
              "  </thead>\n",
              "  <tbody>\n",
              "    <tr>\n",
              "      <th>0</th>\n",
              "      <td>58.0</td>\n",
              "      <td>7</td>\n",
              "      <td>0</td>\n",
              "      <td>2</td>\n",
              "      <td>unknown</td>\n",
              "      <td>5</td>\n",
              "      <td>may</td>\n",
              "      <td>261.0</td>\n",
              "      <td>1</td>\n",
              "      <td>unknown</td>\n",
              "      <td>no</td>\n",
              "      <td>0</td>\n",
              "    </tr>\n",
              "    <tr>\n",
              "      <th>1</th>\n",
              "      <td>44.0</td>\n",
              "      <td>4</td>\n",
              "      <td>2</td>\n",
              "      <td>1</td>\n",
              "      <td>unknown</td>\n",
              "      <td>5</td>\n",
              "      <td>may</td>\n",
              "      <td>151.0</td>\n",
              "      <td>1</td>\n",
              "      <td>unknown</td>\n",
              "      <td>no</td>\n",
              "      <td>0</td>\n",
              "    </tr>\n",
              "  </tbody>\n",
              "</table>\n",
              "</div>\n",
              "      <button class=\"colab-df-convert\" onclick=\"convertToInteractive('df-37fa5188-028b-4538-a671-3ad820a3da4f')\"\n",
              "              title=\"Convert this dataframe to an interactive table.\"\n",
              "              style=\"display:none;\">\n",
              "        \n",
              "  <svg xmlns=\"http://www.w3.org/2000/svg\" height=\"24px\"viewBox=\"0 0 24 24\"\n",
              "       width=\"24px\">\n",
              "    <path d=\"M0 0h24v24H0V0z\" fill=\"none\"/>\n",
              "    <path d=\"M18.56 5.44l.94 2.06.94-2.06 2.06-.94-2.06-.94-.94-2.06-.94 2.06-2.06.94zm-11 1L8.5 8.5l.94-2.06 2.06-.94-2.06-.94L8.5 2.5l-.94 2.06-2.06.94zm10 10l.94 2.06.94-2.06 2.06-.94-2.06-.94-.94-2.06-.94 2.06-2.06.94z\"/><path d=\"M17.41 7.96l-1.37-1.37c-.4-.4-.92-.59-1.43-.59-.52 0-1.04.2-1.43.59L10.3 9.45l-7.72 7.72c-.78.78-.78 2.05 0 2.83L4 21.41c.39.39.9.59 1.41.59.51 0 1.02-.2 1.41-.59l7.78-7.78 2.81-2.81c.8-.78.8-2.07 0-2.86zM5.41 20L4 18.59l7.72-7.72 1.47 1.35L5.41 20z\"/>\n",
              "  </svg>\n",
              "      </button>\n",
              "      \n",
              "  <style>\n",
              "    .colab-df-container {\n",
              "      display:flex;\n",
              "      flex-wrap:wrap;\n",
              "      gap: 12px;\n",
              "    }\n",
              "\n",
              "    .colab-df-convert {\n",
              "      background-color: #E8F0FE;\n",
              "      border: none;\n",
              "      border-radius: 50%;\n",
              "      cursor: pointer;\n",
              "      display: none;\n",
              "      fill: #1967D2;\n",
              "      height: 32px;\n",
              "      padding: 0 0 0 0;\n",
              "      width: 32px;\n",
              "    }\n",
              "\n",
              "    .colab-df-convert:hover {\n",
              "      background-color: #E2EBFA;\n",
              "      box-shadow: 0px 1px 2px rgba(60, 64, 67, 0.3), 0px 1px 3px 1px rgba(60, 64, 67, 0.15);\n",
              "      fill: #174EA6;\n",
              "    }\n",
              "\n",
              "    [theme=dark] .colab-df-convert {\n",
              "      background-color: #3B4455;\n",
              "      fill: #D2E3FC;\n",
              "    }\n",
              "\n",
              "    [theme=dark] .colab-df-convert:hover {\n",
              "      background-color: #434B5C;\n",
              "      box-shadow: 0px 1px 3px 1px rgba(0, 0, 0, 0.15);\n",
              "      filter: drop-shadow(0px 1px 2px rgba(0, 0, 0, 0.3));\n",
              "      fill: #FFFFFF;\n",
              "    }\n",
              "  </style>\n",
              "\n",
              "      <script>\n",
              "        const buttonEl =\n",
              "          document.querySelector('#df-37fa5188-028b-4538-a671-3ad820a3da4f button.colab-df-convert');\n",
              "        buttonEl.style.display =\n",
              "          google.colab.kernel.accessAllowed ? 'block' : 'none';\n",
              "\n",
              "        async function convertToInteractive(key) {\n",
              "          const element = document.querySelector('#df-37fa5188-028b-4538-a671-3ad820a3da4f');\n",
              "          const dataTable =\n",
              "            await google.colab.kernel.invokeFunction('convertToInteractive',\n",
              "                                                     [key], {});\n",
              "          if (!dataTable) return;\n",
              "\n",
              "          const docLinkHtml = 'Like what you see? Visit the ' +\n",
              "            '<a target=\"_blank\" href=https://colab.research.google.com/notebooks/data_table.ipynb>data table notebook</a>'\n",
              "            + ' to learn more about interactive tables.';\n",
              "          element.innerHTML = '';\n",
              "          dataTable['output_type'] = 'display_data';\n",
              "          await google.colab.output.renderOutput(dataTable, element);\n",
              "          const docLink = document.createElement('div');\n",
              "          docLink.innerHTML = docLinkHtml;\n",
              "          element.appendChild(docLink);\n",
              "        }\n",
              "      </script>\n",
              "    </div>\n",
              "  </div>\n",
              "  "
            ]
          },
          "metadata": {},
          "execution_count": 67
        }
      ]
    },
    {
      "cell_type": "markdown",
      "source": [
        "## **call_type**"
      ],
      "metadata": {
        "id": "5s5lmx4yHEch"
      }
    },
    {
      "cell_type": "code",
      "source": [
        "df.call_type.unique()"
      ],
      "metadata": {
        "colab": {
          "base_uri": "https://localhost:8080/"
        },
        "id": "X0SgeyKKHBW9",
        "outputId": "cb367cfe-fac4-4adc-efaf-816fa7fcfa4a"
      },
      "execution_count": 68,
      "outputs": [
        {
          "output_type": "execute_result",
          "data": {
            "text/plain": [
              "array(['unknown', 'cellular', 'telephone'], dtype=object)"
            ]
          },
          "metadata": {},
          "execution_count": 68
        }
      ]
    },
    {
      "cell_type": "code",
      "source": [
        "df['call_type'] = df['call_type'].map({'unknown':0, 'cellular':2, 'telephone':1})\n",
        "df.head(2)"
      ],
      "metadata": {
        "colab": {
          "base_uri": "https://localhost:8080/",
          "height": 112
        },
        "id": "r7w86sFnHIA4",
        "outputId": "4d0644a2-c84e-4fed-8e04-704430f6c9d9"
      },
      "execution_count": 69,
      "outputs": [
        {
          "output_type": "execute_result",
          "data": {
            "text/plain": [
              "    age  job  marital  education_qual  call_type  day  mon    dur  num_calls  \\\n",
              "0  58.0    7        0               2          0    5  may  261.0          1   \n",
              "1  44.0    4        2               1          0    5  may  151.0          1   \n",
              "\n",
              "  prev_outcome   y  Target  \n",
              "0      unknown  no       0  \n",
              "1      unknown  no       0  "
            ],
            "text/html": [
              "\n",
              "  <div id=\"df-a0c6d92d-76f3-4cc4-a91b-41ac60fe8b26\">\n",
              "    <div class=\"colab-df-container\">\n",
              "      <div>\n",
              "<style scoped>\n",
              "    .dataframe tbody tr th:only-of-type {\n",
              "        vertical-align: middle;\n",
              "    }\n",
              "\n",
              "    .dataframe tbody tr th {\n",
              "        vertical-align: top;\n",
              "    }\n",
              "\n",
              "    .dataframe thead th {\n",
              "        text-align: right;\n",
              "    }\n",
              "</style>\n",
              "<table border=\"1\" class=\"dataframe\">\n",
              "  <thead>\n",
              "    <tr style=\"text-align: right;\">\n",
              "      <th></th>\n",
              "      <th>age</th>\n",
              "      <th>job</th>\n",
              "      <th>marital</th>\n",
              "      <th>education_qual</th>\n",
              "      <th>call_type</th>\n",
              "      <th>day</th>\n",
              "      <th>mon</th>\n",
              "      <th>dur</th>\n",
              "      <th>num_calls</th>\n",
              "      <th>prev_outcome</th>\n",
              "      <th>y</th>\n",
              "      <th>Target</th>\n",
              "    </tr>\n",
              "  </thead>\n",
              "  <tbody>\n",
              "    <tr>\n",
              "      <th>0</th>\n",
              "      <td>58.0</td>\n",
              "      <td>7</td>\n",
              "      <td>0</td>\n",
              "      <td>2</td>\n",
              "      <td>0</td>\n",
              "      <td>5</td>\n",
              "      <td>may</td>\n",
              "      <td>261.0</td>\n",
              "      <td>1</td>\n",
              "      <td>unknown</td>\n",
              "      <td>no</td>\n",
              "      <td>0</td>\n",
              "    </tr>\n",
              "    <tr>\n",
              "      <th>1</th>\n",
              "      <td>44.0</td>\n",
              "      <td>4</td>\n",
              "      <td>2</td>\n",
              "      <td>1</td>\n",
              "      <td>0</td>\n",
              "      <td>5</td>\n",
              "      <td>may</td>\n",
              "      <td>151.0</td>\n",
              "      <td>1</td>\n",
              "      <td>unknown</td>\n",
              "      <td>no</td>\n",
              "      <td>0</td>\n",
              "    </tr>\n",
              "  </tbody>\n",
              "</table>\n",
              "</div>\n",
              "      <button class=\"colab-df-convert\" onclick=\"convertToInteractive('df-a0c6d92d-76f3-4cc4-a91b-41ac60fe8b26')\"\n",
              "              title=\"Convert this dataframe to an interactive table.\"\n",
              "              style=\"display:none;\">\n",
              "        \n",
              "  <svg xmlns=\"http://www.w3.org/2000/svg\" height=\"24px\"viewBox=\"0 0 24 24\"\n",
              "       width=\"24px\">\n",
              "    <path d=\"M0 0h24v24H0V0z\" fill=\"none\"/>\n",
              "    <path d=\"M18.56 5.44l.94 2.06.94-2.06 2.06-.94-2.06-.94-.94-2.06-.94 2.06-2.06.94zm-11 1L8.5 8.5l.94-2.06 2.06-.94-2.06-.94L8.5 2.5l-.94 2.06-2.06.94zm10 10l.94 2.06.94-2.06 2.06-.94-2.06-.94-.94-2.06-.94 2.06-2.06.94z\"/><path d=\"M17.41 7.96l-1.37-1.37c-.4-.4-.92-.59-1.43-.59-.52 0-1.04.2-1.43.59L10.3 9.45l-7.72 7.72c-.78.78-.78 2.05 0 2.83L4 21.41c.39.39.9.59 1.41.59.51 0 1.02-.2 1.41-.59l7.78-7.78 2.81-2.81c.8-.78.8-2.07 0-2.86zM5.41 20L4 18.59l7.72-7.72 1.47 1.35L5.41 20z\"/>\n",
              "  </svg>\n",
              "      </button>\n",
              "      \n",
              "  <style>\n",
              "    .colab-df-container {\n",
              "      display:flex;\n",
              "      flex-wrap:wrap;\n",
              "      gap: 12px;\n",
              "    }\n",
              "\n",
              "    .colab-df-convert {\n",
              "      background-color: #E8F0FE;\n",
              "      border: none;\n",
              "      border-radius: 50%;\n",
              "      cursor: pointer;\n",
              "      display: none;\n",
              "      fill: #1967D2;\n",
              "      height: 32px;\n",
              "      padding: 0 0 0 0;\n",
              "      width: 32px;\n",
              "    }\n",
              "\n",
              "    .colab-df-convert:hover {\n",
              "      background-color: #E2EBFA;\n",
              "      box-shadow: 0px 1px 2px rgba(60, 64, 67, 0.3), 0px 1px 3px 1px rgba(60, 64, 67, 0.15);\n",
              "      fill: #174EA6;\n",
              "    }\n",
              "\n",
              "    [theme=dark] .colab-df-convert {\n",
              "      background-color: #3B4455;\n",
              "      fill: #D2E3FC;\n",
              "    }\n",
              "\n",
              "    [theme=dark] .colab-df-convert:hover {\n",
              "      background-color: #434B5C;\n",
              "      box-shadow: 0px 1px 3px 1px rgba(0, 0, 0, 0.15);\n",
              "      filter: drop-shadow(0px 1px 2px rgba(0, 0, 0, 0.3));\n",
              "      fill: #FFFFFF;\n",
              "    }\n",
              "  </style>\n",
              "\n",
              "      <script>\n",
              "        const buttonEl =\n",
              "          document.querySelector('#df-a0c6d92d-76f3-4cc4-a91b-41ac60fe8b26 button.colab-df-convert');\n",
              "        buttonEl.style.display =\n",
              "          google.colab.kernel.accessAllowed ? 'block' : 'none';\n",
              "\n",
              "        async function convertToInteractive(key) {\n",
              "          const element = document.querySelector('#df-a0c6d92d-76f3-4cc4-a91b-41ac60fe8b26');\n",
              "          const dataTable =\n",
              "            await google.colab.kernel.invokeFunction('convertToInteractive',\n",
              "                                                     [key], {});\n",
              "          if (!dataTable) return;\n",
              "\n",
              "          const docLinkHtml = 'Like what you see? Visit the ' +\n",
              "            '<a target=\"_blank\" href=https://colab.research.google.com/notebooks/data_table.ipynb>data table notebook</a>'\n",
              "            + ' to learn more about interactive tables.';\n",
              "          element.innerHTML = '';\n",
              "          dataTable['output_type'] = 'display_data';\n",
              "          await google.colab.output.renderOutput(dataTable, element);\n",
              "          const docLink = document.createElement('div');\n",
              "          docLink.innerHTML = docLinkHtml;\n",
              "          element.appendChild(docLink);\n",
              "        }\n",
              "      </script>\n",
              "    </div>\n",
              "  </div>\n",
              "  "
            ]
          },
          "metadata": {},
          "execution_count": 69
        }
      ]
    },
    {
      "cell_type": "markdown",
      "source": [
        "## **Month**"
      ],
      "metadata": {
        "id": "H9aFVDENHlXt"
      }
    },
    {
      "cell_type": "code",
      "source": [
        "df.mon.unique()"
      ],
      "metadata": {
        "colab": {
          "base_uri": "https://localhost:8080/"
        },
        "id": "-WgNYlvPHcEG",
        "outputId": "575203eb-0f3b-443f-a870-022415e9f6fe"
      },
      "execution_count": 70,
      "outputs": [
        {
          "output_type": "execute_result",
          "data": {
            "text/plain": [
              "array(['may', 'jun', 'jul', 'aug', 'oct', 'nov', 'dec', 'jan', 'feb',\n",
              "       'mar', 'apr', 'sep'], dtype=object)"
            ]
          },
          "metadata": {},
          "execution_count": 70
        }
      ]
    },
    {
      "cell_type": "code",
      "source": [
        "df['mon'] = df['mon'].map({'may':0, 'jun':4, 'jul':1, 'aug':5, 'oct':8, 'nov':3, 'dec':10, 'jan':2, 'feb':6, 'mar':11, 'apr':7, 'sep':9})\n",
        "df.head(2)"
      ],
      "metadata": {
        "colab": {
          "base_uri": "https://localhost:8080/",
          "height": 112
        },
        "id": "DBmgMtiJHpsD",
        "outputId": "487a1e4f-6698-4e4f-d516-fb03ae1b1901"
      },
      "execution_count": 71,
      "outputs": [
        {
          "output_type": "execute_result",
          "data": {
            "text/plain": [
              "    age  job  marital  education_qual  call_type  day  mon    dur  num_calls  \\\n",
              "0  58.0    7        0               2          0    5    0  261.0          1   \n",
              "1  44.0    4        2               1          0    5    0  151.0          1   \n",
              "\n",
              "  prev_outcome   y  Target  \n",
              "0      unknown  no       0  \n",
              "1      unknown  no       0  "
            ],
            "text/html": [
              "\n",
              "  <div id=\"df-7bcdad84-acfd-4bfe-92a7-de3fd73d52d5\">\n",
              "    <div class=\"colab-df-container\">\n",
              "      <div>\n",
              "<style scoped>\n",
              "    .dataframe tbody tr th:only-of-type {\n",
              "        vertical-align: middle;\n",
              "    }\n",
              "\n",
              "    .dataframe tbody tr th {\n",
              "        vertical-align: top;\n",
              "    }\n",
              "\n",
              "    .dataframe thead th {\n",
              "        text-align: right;\n",
              "    }\n",
              "</style>\n",
              "<table border=\"1\" class=\"dataframe\">\n",
              "  <thead>\n",
              "    <tr style=\"text-align: right;\">\n",
              "      <th></th>\n",
              "      <th>age</th>\n",
              "      <th>job</th>\n",
              "      <th>marital</th>\n",
              "      <th>education_qual</th>\n",
              "      <th>call_type</th>\n",
              "      <th>day</th>\n",
              "      <th>mon</th>\n",
              "      <th>dur</th>\n",
              "      <th>num_calls</th>\n",
              "      <th>prev_outcome</th>\n",
              "      <th>y</th>\n",
              "      <th>Target</th>\n",
              "    </tr>\n",
              "  </thead>\n",
              "  <tbody>\n",
              "    <tr>\n",
              "      <th>0</th>\n",
              "      <td>58.0</td>\n",
              "      <td>7</td>\n",
              "      <td>0</td>\n",
              "      <td>2</td>\n",
              "      <td>0</td>\n",
              "      <td>5</td>\n",
              "      <td>0</td>\n",
              "      <td>261.0</td>\n",
              "      <td>1</td>\n",
              "      <td>unknown</td>\n",
              "      <td>no</td>\n",
              "      <td>0</td>\n",
              "    </tr>\n",
              "    <tr>\n",
              "      <th>1</th>\n",
              "      <td>44.0</td>\n",
              "      <td>4</td>\n",
              "      <td>2</td>\n",
              "      <td>1</td>\n",
              "      <td>0</td>\n",
              "      <td>5</td>\n",
              "      <td>0</td>\n",
              "      <td>151.0</td>\n",
              "      <td>1</td>\n",
              "      <td>unknown</td>\n",
              "      <td>no</td>\n",
              "      <td>0</td>\n",
              "    </tr>\n",
              "  </tbody>\n",
              "</table>\n",
              "</div>\n",
              "      <button class=\"colab-df-convert\" onclick=\"convertToInteractive('df-7bcdad84-acfd-4bfe-92a7-de3fd73d52d5')\"\n",
              "              title=\"Convert this dataframe to an interactive table.\"\n",
              "              style=\"display:none;\">\n",
              "        \n",
              "  <svg xmlns=\"http://www.w3.org/2000/svg\" height=\"24px\"viewBox=\"0 0 24 24\"\n",
              "       width=\"24px\">\n",
              "    <path d=\"M0 0h24v24H0V0z\" fill=\"none\"/>\n",
              "    <path d=\"M18.56 5.44l.94 2.06.94-2.06 2.06-.94-2.06-.94-.94-2.06-.94 2.06-2.06.94zm-11 1L8.5 8.5l.94-2.06 2.06-.94-2.06-.94L8.5 2.5l-.94 2.06-2.06.94zm10 10l.94 2.06.94-2.06 2.06-.94-2.06-.94-.94-2.06-.94 2.06-2.06.94z\"/><path d=\"M17.41 7.96l-1.37-1.37c-.4-.4-.92-.59-1.43-.59-.52 0-1.04.2-1.43.59L10.3 9.45l-7.72 7.72c-.78.78-.78 2.05 0 2.83L4 21.41c.39.39.9.59 1.41.59.51 0 1.02-.2 1.41-.59l7.78-7.78 2.81-2.81c.8-.78.8-2.07 0-2.86zM5.41 20L4 18.59l7.72-7.72 1.47 1.35L5.41 20z\"/>\n",
              "  </svg>\n",
              "      </button>\n",
              "      \n",
              "  <style>\n",
              "    .colab-df-container {\n",
              "      display:flex;\n",
              "      flex-wrap:wrap;\n",
              "      gap: 12px;\n",
              "    }\n",
              "\n",
              "    .colab-df-convert {\n",
              "      background-color: #E8F0FE;\n",
              "      border: none;\n",
              "      border-radius: 50%;\n",
              "      cursor: pointer;\n",
              "      display: none;\n",
              "      fill: #1967D2;\n",
              "      height: 32px;\n",
              "      padding: 0 0 0 0;\n",
              "      width: 32px;\n",
              "    }\n",
              "\n",
              "    .colab-df-convert:hover {\n",
              "      background-color: #E2EBFA;\n",
              "      box-shadow: 0px 1px 2px rgba(60, 64, 67, 0.3), 0px 1px 3px 1px rgba(60, 64, 67, 0.15);\n",
              "      fill: #174EA6;\n",
              "    }\n",
              "\n",
              "    [theme=dark] .colab-df-convert {\n",
              "      background-color: #3B4455;\n",
              "      fill: #D2E3FC;\n",
              "    }\n",
              "\n",
              "    [theme=dark] .colab-df-convert:hover {\n",
              "      background-color: #434B5C;\n",
              "      box-shadow: 0px 1px 3px 1px rgba(0, 0, 0, 0.15);\n",
              "      filter: drop-shadow(0px 1px 2px rgba(0, 0, 0, 0.3));\n",
              "      fill: #FFFFFF;\n",
              "    }\n",
              "  </style>\n",
              "\n",
              "      <script>\n",
              "        const buttonEl =\n",
              "          document.querySelector('#df-7bcdad84-acfd-4bfe-92a7-de3fd73d52d5 button.colab-df-convert');\n",
              "        buttonEl.style.display =\n",
              "          google.colab.kernel.accessAllowed ? 'block' : 'none';\n",
              "\n",
              "        async function convertToInteractive(key) {\n",
              "          const element = document.querySelector('#df-7bcdad84-acfd-4bfe-92a7-de3fd73d52d5');\n",
              "          const dataTable =\n",
              "            await google.colab.kernel.invokeFunction('convertToInteractive',\n",
              "                                                     [key], {});\n",
              "          if (!dataTable) return;\n",
              "\n",
              "          const docLinkHtml = 'Like what you see? Visit the ' +\n",
              "            '<a target=\"_blank\" href=https://colab.research.google.com/notebooks/data_table.ipynb>data table notebook</a>'\n",
              "            + ' to learn more about interactive tables.';\n",
              "          element.innerHTML = '';\n",
              "          dataTable['output_type'] = 'display_data';\n",
              "          await google.colab.output.renderOutput(dataTable, element);\n",
              "          const docLink = document.createElement('div');\n",
              "          docLink.innerHTML = docLinkHtml;\n",
              "          element.appendChild(docLink);\n",
              "        }\n",
              "      </script>\n",
              "    </div>\n",
              "  </div>\n",
              "  "
            ]
          },
          "metadata": {},
          "execution_count": 71
        }
      ]
    },
    {
      "cell_type": "markdown",
      "source": [
        "## **prev_outcome**"
      ],
      "metadata": {
        "id": "aFJbx5Y_IeAz"
      }
    },
    {
      "cell_type": "code",
      "source": [
        "df.prev_outcome.unique()"
      ],
      "metadata": {
        "colab": {
          "base_uri": "https://localhost:8080/"
        },
        "id": "oxGZ_ERpIZ_Y",
        "outputId": "765ae487-ab45-4133-c6b9-9c09124b2f64"
      },
      "execution_count": 72,
      "outputs": [
        {
          "output_type": "execute_result",
          "data": {
            "text/plain": [
              "array(['unknown', 'failure', 'other', 'success'], dtype=object)"
            ]
          },
          "metadata": {},
          "execution_count": 72
        }
      ]
    },
    {
      "cell_type": "code",
      "source": [
        "df['prev_outcome'] = df['prev_outcome'].map({'unknown':0, 'failure':1, 'other':2, 'success':3})\n",
        "df.head(2)"
      ],
      "metadata": {
        "colab": {
          "base_uri": "https://localhost:8080/",
          "height": 112
        },
        "id": "0WEBrtG2IiB0",
        "outputId": "9460153a-4aef-4d41-ad7e-76e7e26fe54a"
      },
      "execution_count": 73,
      "outputs": [
        {
          "output_type": "execute_result",
          "data": {
            "text/plain": [
              "    age  job  marital  education_qual  call_type  day  mon    dur  num_calls  \\\n",
              "0  58.0    7        0               2          0    5    0  261.0          1   \n",
              "1  44.0    4        2               1          0    5    0  151.0          1   \n",
              "\n",
              "   prev_outcome   y  Target  \n",
              "0             0  no       0  \n",
              "1             0  no       0  "
            ],
            "text/html": [
              "\n",
              "  <div id=\"df-7a6080f1-b414-4f24-bfc2-28e6dedca5ce\">\n",
              "    <div class=\"colab-df-container\">\n",
              "      <div>\n",
              "<style scoped>\n",
              "    .dataframe tbody tr th:only-of-type {\n",
              "        vertical-align: middle;\n",
              "    }\n",
              "\n",
              "    .dataframe tbody tr th {\n",
              "        vertical-align: top;\n",
              "    }\n",
              "\n",
              "    .dataframe thead th {\n",
              "        text-align: right;\n",
              "    }\n",
              "</style>\n",
              "<table border=\"1\" class=\"dataframe\">\n",
              "  <thead>\n",
              "    <tr style=\"text-align: right;\">\n",
              "      <th></th>\n",
              "      <th>age</th>\n",
              "      <th>job</th>\n",
              "      <th>marital</th>\n",
              "      <th>education_qual</th>\n",
              "      <th>call_type</th>\n",
              "      <th>day</th>\n",
              "      <th>mon</th>\n",
              "      <th>dur</th>\n",
              "      <th>num_calls</th>\n",
              "      <th>prev_outcome</th>\n",
              "      <th>y</th>\n",
              "      <th>Target</th>\n",
              "    </tr>\n",
              "  </thead>\n",
              "  <tbody>\n",
              "    <tr>\n",
              "      <th>0</th>\n",
              "      <td>58.0</td>\n",
              "      <td>7</td>\n",
              "      <td>0</td>\n",
              "      <td>2</td>\n",
              "      <td>0</td>\n",
              "      <td>5</td>\n",
              "      <td>0</td>\n",
              "      <td>261.0</td>\n",
              "      <td>1</td>\n",
              "      <td>0</td>\n",
              "      <td>no</td>\n",
              "      <td>0</td>\n",
              "    </tr>\n",
              "    <tr>\n",
              "      <th>1</th>\n",
              "      <td>44.0</td>\n",
              "      <td>4</td>\n",
              "      <td>2</td>\n",
              "      <td>1</td>\n",
              "      <td>0</td>\n",
              "      <td>5</td>\n",
              "      <td>0</td>\n",
              "      <td>151.0</td>\n",
              "      <td>1</td>\n",
              "      <td>0</td>\n",
              "      <td>no</td>\n",
              "      <td>0</td>\n",
              "    </tr>\n",
              "  </tbody>\n",
              "</table>\n",
              "</div>\n",
              "      <button class=\"colab-df-convert\" onclick=\"convertToInteractive('df-7a6080f1-b414-4f24-bfc2-28e6dedca5ce')\"\n",
              "              title=\"Convert this dataframe to an interactive table.\"\n",
              "              style=\"display:none;\">\n",
              "        \n",
              "  <svg xmlns=\"http://www.w3.org/2000/svg\" height=\"24px\"viewBox=\"0 0 24 24\"\n",
              "       width=\"24px\">\n",
              "    <path d=\"M0 0h24v24H0V0z\" fill=\"none\"/>\n",
              "    <path d=\"M18.56 5.44l.94 2.06.94-2.06 2.06-.94-2.06-.94-.94-2.06-.94 2.06-2.06.94zm-11 1L8.5 8.5l.94-2.06 2.06-.94-2.06-.94L8.5 2.5l-.94 2.06-2.06.94zm10 10l.94 2.06.94-2.06 2.06-.94-2.06-.94-.94-2.06-.94 2.06-2.06.94z\"/><path d=\"M17.41 7.96l-1.37-1.37c-.4-.4-.92-.59-1.43-.59-.52 0-1.04.2-1.43.59L10.3 9.45l-7.72 7.72c-.78.78-.78 2.05 0 2.83L4 21.41c.39.39.9.59 1.41.59.51 0 1.02-.2 1.41-.59l7.78-7.78 2.81-2.81c.8-.78.8-2.07 0-2.86zM5.41 20L4 18.59l7.72-7.72 1.47 1.35L5.41 20z\"/>\n",
              "  </svg>\n",
              "      </button>\n",
              "      \n",
              "  <style>\n",
              "    .colab-df-container {\n",
              "      display:flex;\n",
              "      flex-wrap:wrap;\n",
              "      gap: 12px;\n",
              "    }\n",
              "\n",
              "    .colab-df-convert {\n",
              "      background-color: #E8F0FE;\n",
              "      border: none;\n",
              "      border-radius: 50%;\n",
              "      cursor: pointer;\n",
              "      display: none;\n",
              "      fill: #1967D2;\n",
              "      height: 32px;\n",
              "      padding: 0 0 0 0;\n",
              "      width: 32px;\n",
              "    }\n",
              "\n",
              "    .colab-df-convert:hover {\n",
              "      background-color: #E2EBFA;\n",
              "      box-shadow: 0px 1px 2px rgba(60, 64, 67, 0.3), 0px 1px 3px 1px rgba(60, 64, 67, 0.15);\n",
              "      fill: #174EA6;\n",
              "    }\n",
              "\n",
              "    [theme=dark] .colab-df-convert {\n",
              "      background-color: #3B4455;\n",
              "      fill: #D2E3FC;\n",
              "    }\n",
              "\n",
              "    [theme=dark] .colab-df-convert:hover {\n",
              "      background-color: #434B5C;\n",
              "      box-shadow: 0px 1px 3px 1px rgba(0, 0, 0, 0.15);\n",
              "      filter: drop-shadow(0px 1px 2px rgba(0, 0, 0, 0.3));\n",
              "      fill: #FFFFFF;\n",
              "    }\n",
              "  </style>\n",
              "\n",
              "      <script>\n",
              "        const buttonEl =\n",
              "          document.querySelector('#df-7a6080f1-b414-4f24-bfc2-28e6dedca5ce button.colab-df-convert');\n",
              "        buttonEl.style.display =\n",
              "          google.colab.kernel.accessAllowed ? 'block' : 'none';\n",
              "\n",
              "        async function convertToInteractive(key) {\n",
              "          const element = document.querySelector('#df-7a6080f1-b414-4f24-bfc2-28e6dedca5ce');\n",
              "          const dataTable =\n",
              "            await google.colab.kernel.invokeFunction('convertToInteractive',\n",
              "                                                     [key], {});\n",
              "          if (!dataTable) return;\n",
              "\n",
              "          const docLinkHtml = 'Like what you see? Visit the ' +\n",
              "            '<a target=\"_blank\" href=https://colab.research.google.com/notebooks/data_table.ipynb>data table notebook</a>'\n",
              "            + ' to learn more about interactive tables.';\n",
              "          element.innerHTML = '';\n",
              "          dataTable['output_type'] = 'display_data';\n",
              "          await google.colab.output.renderOutput(dataTable, element);\n",
              "          const docLink = document.createElement('div');\n",
              "          docLink.innerHTML = docLinkHtml;\n",
              "          element.appendChild(docLink);\n",
              "        }\n",
              "      </script>\n",
              "    </div>\n",
              "  </div>\n",
              "  "
            ]
          },
          "metadata": {},
          "execution_count": 73
        }
      ]
    },
    {
      "cell_type": "markdown",
      "source": [
        "# **Feature and Target Selection**"
      ],
      "metadata": {
        "id": "EH89_3PFI-S9"
      }
    },
    {
      "cell_type": "code",
      "source": [
        "x = df[['age','job','marital','education_qual','call_type','day','mon','dur','num_calls','prev_outcome']].values # Features\n",
        "y = df['Target'].values # Target"
      ],
      "metadata": {
        "id": "Sf8LETzsI3ZH"
      },
      "execution_count": 74,
      "outputs": []
    },
    {
      "cell_type": "markdown",
      "source": [
        "# **Splitting the data**"
      ],
      "metadata": {
        "id": "SxAyXkaZJHHI"
      }
    },
    {
      "cell_type": "code",
      "source": [
        "from sklearn.model_selection import train_test_split\n",
        "\n",
        "x_train, x_test, y_train, y_test = train_test_split(x,y,test_size = 0.2, random_state = 3)"
      ],
      "metadata": {
        "id": "sE8_anWg9wba"
      },
      "execution_count": 75,
      "outputs": []
    },
    {
      "cell_type": "markdown",
      "source": [
        "# **Balancing the Data**"
      ],
      "metadata": {
        "id": "shqkmj-GJTca"
      }
    },
    {
      "cell_type": "code",
      "source": [
        "from imblearn.combine import SMOTEENN\n",
        "\n",
        "smt = SMOTEENN(sampling_strategy='all')\n",
        "x_train_smt, y_train_smt = smt.fit_resample(x_train, y_train)"
      ],
      "metadata": {
        "id": "kyvy0GGuJN_3"
      },
      "execution_count": 76,
      "outputs": []
    },
    {
      "cell_type": "code",
      "source": [
        "print(len(x_train_smt))\n",
        "print(len(y_train_smt))"
      ],
      "metadata": {
        "colab": {
          "base_uri": "https://localhost:8080/"
        },
        "id": "5sbnQ_qBJXj_",
        "outputId": "56ff3c88-a884-4eaa-dca9-157670a42b1d"
      },
      "execution_count": 77,
      "outputs": [
        {
          "output_type": "stream",
          "name": "stdout",
          "text": [
            "54837\n",
            "54837\n"
          ]
        }
      ]
    },
    {
      "cell_type": "markdown",
      "source": [
        "# **Scaling the data**"
      ],
      "metadata": {
        "id": "sBYNIFHqJo7_"
      }
    },
    {
      "cell_type": "code",
      "source": [
        "from sklearn.preprocessing import StandardScaler\n",
        "scaler = StandardScaler()\n",
        "x_train_scaled = scaler.fit_transform(x_train_smt)\n",
        "x_test_scaled = scaler.transform(x_test)"
      ],
      "metadata": {
        "id": "a4ckq92k9wY5"
      },
      "execution_count": 78,
      "outputs": []
    },
    {
      "cell_type": "markdown",
      "source": [
        "# **Models**"
      ],
      "metadata": {
        "id": "f-yROzx9J0yH"
      }
    },
    {
      "cell_type": "markdown",
      "source": [
        "## **Logistic Regression**"
      ],
      "metadata": {
        "id": "E_ONUL_4M_vV"
      }
    },
    {
      "cell_type": "code",
      "source": [
        "from sklearn.linear_model import LogisticRegression\n",
        "from sklearn.metrics import f1_score\n",
        "\n",
        "lr = LogisticRegression()\n",
        "\n",
        "lr.fit(x_train_scaled,y_train_smt)\n",
        "lr.score(x_test_scaled,y_test)"
      ],
      "metadata": {
        "colab": {
          "base_uri": "https://localhost:8080/"
        },
        "id": "oB2xxu6w9wVw",
        "outputId": "f68c9314-b5f9-480c-e410-8311e130c876"
      },
      "execution_count": 79,
      "outputs": [
        {
          "output_type": "execute_result",
          "data": {
            "text/plain": [
              "0.7767946023669948"
            ]
          },
          "metadata": {},
          "execution_count": 79
        }
      ]
    },
    {
      "cell_type": "code",
      "source": [
        "y_pred=lr.predict_proba(x_test_scaled)\n",
        "y_pred"
      ],
      "metadata": {
        "colab": {
          "base_uri": "https://localhost:8080/"
        },
        "id": "6qofl8n3NoLy",
        "outputId": "fb49f66e-6d9c-4aa4-9895-40922cd45b81"
      },
      "execution_count": 80,
      "outputs": [
        {
          "output_type": "execute_result",
          "data": {
            "text/plain": [
              "array([[0.00185359, 0.99814641],\n",
              "       [0.57397609, 0.42602391],\n",
              "       [0.57025076, 0.42974924],\n",
              "       ...,\n",
              "       [0.96870261, 0.03129739],\n",
              "       [0.46032683, 0.53967317],\n",
              "       [0.47904501, 0.52095499]])"
            ]
          },
          "metadata": {},
          "execution_count": 80
        }
      ]
    },
    {
      "cell_type": "code",
      "source": [
        "y_pred_labels = np.round(y_pred[:, 1]).astype(int)\n",
        "f1 = f1_score(y_test, y_pred_labels)\n",
        "print(\"F1 score for logistic regression: \", round(f1, 2))"
      ],
      "metadata": {
        "colab": {
          "base_uri": "https://localhost:8080/"
        },
        "id": "nFoVwPR8NQfe",
        "outputId": "5cd1c056-5aef-47bb-c3bc-619e7110d2d9"
      },
      "execution_count": 81,
      "outputs": [
        {
          "output_type": "stream",
          "name": "stdout",
          "text": [
            "F1 score for logistic regression:  0.49\n"
          ]
        }
      ]
    },
    {
      "cell_type": "code",
      "source": [
        "from sklearn.metrics import confusion_matrix, classification_report\n",
        "\n",
        "cm = confusion_matrix(y_test, y_pred_labels)\n",
        "print(\"Confusion Matrix:\")\n",
        "print(cm)\n",
        "\n",
        "report = classification_report(y_test, y_pred_labels)\n",
        "print(\"Classification Report:\\n\", report)"
      ],
      "metadata": {
        "colab": {
          "base_uri": "https://localhost:8080/"
        },
        "id": "YzkaFIA2NQEu",
        "outputId": "700609e5-dd4a-4c7e-fa87-8b874775f690"
      },
      "execution_count": 82,
      "outputs": [
        {
          "output_type": "stream",
          "name": "stdout",
          "text": [
            "Confusion Matrix:\n",
            "[[6067 1905]\n",
            " [ 113  956]]\n",
            "Classification Report:\n",
            "               precision    recall  f1-score   support\n",
            "\n",
            "           0       0.98      0.76      0.86      7972\n",
            "           1       0.33      0.89      0.49      1069\n",
            "\n",
            "    accuracy                           0.78      9041\n",
            "   macro avg       0.66      0.83      0.67      9041\n",
            "weighted avg       0.91      0.78      0.81      9041\n",
            "\n"
          ]
        }
      ]
    },
    {
      "cell_type": "markdown",
      "source": [
        "## **KNN**"
      ],
      "metadata": {
        "id": "_qwmLTLYO29-"
      }
    },
    {
      "cell_type": "code",
      "source": [
        "from sklearn.neighbors import KNeighborsClassifier\n",
        "from sklearn.model_selection import cross_val_score\n",
        "for i in [1,2,3,4,5,6,7,8,9,10,20,30,40,50]:\n",
        "  knn= KNeighborsClassifier(i)\n",
        "  knn.fit(x_train_scaled, y_train_smt)\n",
        "  print(\"K value :\", i, \"Train Score : \", knn.score(x_train_scaled,y_train_smt), \"Cross Value Accuracy :\" , np.mean(cross_val_score(knn, x_test_scaled, y_test, cv=10, scoring = 'f1')))"
      ],
      "metadata": {
        "colab": {
          "base_uri": "https://localhost:8080/"
        },
        "id": "f_nDXbp8Xg1q",
        "outputId": "c6e426c4-a5fe-4f42-f3ac-79fcdd29320d"
      },
      "execution_count": 83,
      "outputs": [
        {
          "output_type": "stream",
          "name": "stdout",
          "text": [
            "K value : 1 Train Score :  1.0 Cross Value Accuracy : 0.44251541189264854\n",
            "K value : 2 Train Score :  0.9954775060634243 Cross Value Accuracy : 0.2928883211364906\n",
            "K value : 3 Train Score :  0.9770775206521144 Cross Value Accuracy : 0.42911735424149383\n",
            "K value : 4 Train Score :  0.9772963510038842 Cross Value Accuracy : 0.32445357191596885\n",
            "K value : 5 Train Score :  0.9666830789430494 Cross Value Accuracy : 0.41002808082536435\n",
            "K value : 6 Train Score :  0.9666830789430494 Cross Value Accuracy : 0.34670383964687096\n",
            "K value : 7 Train Score :  0.9600452249393657 Cross Value Accuracy : 0.40702265857173314\n",
            "K value : 8 Train Score :  0.959753451137006 Cross Value Accuracy : 0.32271188090205327\n",
            "K value : 9 Train Score :  0.955030362711308 Cross Value Accuracy : 0.39075300350525843\n",
            "K value : 10 Train Score :  0.9540273902656965 Cross Value Accuracy : 0.32942980086549145\n",
            "K value : 20 Train Score :  0.9384721994273939 Cross Value Accuracy : 0.28740413085802513\n",
            "K value : 30 Train Score :  0.9311596185057535 Cross Value Accuracy : 0.26495786510530167\n",
            "K value : 40 Train Score :  0.9267465397450626 Cross Value Accuracy : 0.23472872431784503\n",
            "K value : 50 Train Score :  0.9234093768805733 Cross Value Accuracy : 0.22136222275487022\n"
          ]
        }
      ]
    },
    {
      "cell_type": "markdown",
      "source": [
        "k = 1 is the best cross validation score of 0.44251541189264854"
      ],
      "metadata": {
        "id": "_z71MOzh5KDM"
      }
    },
    {
      "cell_type": "code",
      "source": [
        "knn= KNeighborsClassifier(1)\n",
        "knn.fit(x_train_scaled, y_train_smt)\n",
        "print(\"KNN Score: \",knn.score(x_test_scaled,y_test))\n",
        "knn_f1_score = f1_score(y_test, knn.predict(x_test_scaled))\n",
        "print(\"F1 score for KNN classifier: \", round(knn_f1_score, 2))"
      ],
      "metadata": {
        "colab": {
          "base_uri": "https://localhost:8080/"
        },
        "id": "-LCkKkjvQorC",
        "outputId": "99fee24a-f1bb-45e0-8178-f3666ababf32"
      },
      "execution_count": 84,
      "outputs": [
        {
          "output_type": "stream",
          "name": "stdout",
          "text": [
            "KNN Score:  0.8440438004645504\n",
            "F1 score for KNN classifier:  0.53\n"
          ]
        }
      ]
    },
    {
      "cell_type": "code",
      "source": [
        "from sklearn.metrics import confusion_matrix, classification_report\n",
        "\n",
        "knn_predictions = knn.predict(x_test_scaled)\n",
        "\n",
        "# Confusion Matrix\n",
        "cm = confusion_matrix(y_test, knn_predictions)\n",
        "print(\"Confusion Matrix:\")\n",
        "print(cm)\n",
        "\n",
        "# Classification Report\n",
        "report = classification_report(y_test, knn_predictions)\n",
        "print(\"Classification Report:\")\n",
        "print(report)"
      ],
      "metadata": {
        "colab": {
          "base_uri": "https://localhost:8080/"
        },
        "id": "1LPZOsur6-aH",
        "outputId": "f27081fc-1e62-4b5b-982f-7da194af6f56"
      },
      "execution_count": 85,
      "outputs": [
        {
          "output_type": "stream",
          "name": "stdout",
          "text": [
            "Confusion Matrix:\n",
            "[[6839 1133]\n",
            " [ 277  792]]\n",
            "Classification Report:\n",
            "              precision    recall  f1-score   support\n",
            "\n",
            "           0       0.96      0.86      0.91      7972\n",
            "           1       0.41      0.74      0.53      1069\n",
            "\n",
            "    accuracy                           0.84      9041\n",
            "   macro avg       0.69      0.80      0.72      9041\n",
            "weighted avg       0.90      0.84      0.86      9041\n",
            "\n"
          ]
        }
      ]
    },
    {
      "cell_type": "markdown",
      "source": [
        "## **Decision Tree**"
      ],
      "metadata": {
        "id": "G6kIgjrZ7Hgz"
      }
    },
    {
      "cell_type": "code",
      "source": [
        "from sklearn.tree import DecisionTreeClassifier\n",
        "\n",
        "dt = DecisionTreeClassifier()\n",
        "dt.fit(x_train_smt,y_train_smt)\n",
        "print(\"Decision Tree Score : \", dt.score(x_test_scaled,y_test))\n",
        "dt_f1_score = f1_score(y_test, dt.predict(x_test_scaled))\n",
        "print(\"F1 score for Decision Tree classifier: \", round(dt_f1_score, 2))"
      ],
      "metadata": {
        "colab": {
          "base_uri": "https://localhost:8080/"
        },
        "id": "I4daLXNi7Bea",
        "outputId": "bf9f6bf6-46d6-44a0-bf3c-4db1dc6f96b6"
      },
      "execution_count": 86,
      "outputs": [
        {
          "output_type": "stream",
          "name": "stdout",
          "text": [
            "Decision Tree Score :  0.1318438225859971\n",
            "F1 score for Decision Tree classifier:  0.17\n"
          ]
        }
      ]
    },
    {
      "cell_type": "code",
      "source": [
        "from sklearn.metrics import accuracy_score\n",
        "from sklearn.model_selection import cross_val_score\n",
        "\n",
        "\n",
        "for depth in [1,2,3,4,5,6,7,8,9,10,20]:\n",
        "  dt = DecisionTreeClassifier(max_depth=depth) # will tell the DT to not grow past the given threhsold\n",
        "  # Fit dt to the training set\n",
        "  dt.fit(x_train_smt, y_train_smt) # the model is trained\n",
        "  trainAccuracy = accuracy_score(y_train_smt, dt.predict(x_train_smt)) # this is useless information - i am showing to prove a point\n",
        "  dt = DecisionTreeClassifier(max_depth=depth) # a fresh model which is not trained yet\n",
        "  valAccuracy = cross_val_score(dt, x_test_scaled, y_test, cv=10, scoring = 'f1') # syntax : cross_val_Score(freshModel,fts, target, cv= 10/5)\n",
        "  print(\"Depth  : \", depth, \" Training Accuracy : \", trainAccuracy, \" Cross val score : \" ,np.mean(valAccuracy))"
      ],
      "metadata": {
        "colab": {
          "base_uri": "https://localhost:8080/"
        },
        "id": "dlZYZ1d87Ba2",
        "outputId": "4621c4ba-9842-4293-c7f3-f2213b299923"
      },
      "execution_count": 87,
      "outputs": [
        {
          "output_type": "stream",
          "name": "stdout",
          "text": [
            "Depth  :  1  Training Accuracy :  0.7774677681127706  Cross val score :  0.0\n",
            "Depth  :  2  Training Accuracy :  0.8288564290533764  Cross val score :  0.3434200504003807\n",
            "Depth  :  3  Training Accuracy :  0.8681729489213488  Cross val score :  0.3098819158324469\n",
            "Depth  :  4  Training Accuracy :  0.8892536061418386  Cross val score :  0.5226171759534701\n",
            "Depth  :  5  Training Accuracy :  0.9126137461932636  Cross val score :  0.469964765404783\n",
            "Depth  :  6  Training Accuracy :  0.9261082845524008  Cross val score :  0.45666712670056464\n",
            "Depth  :  7  Training Accuracy :  0.9374874628444299  Cross val score :  0.43613648905978997\n",
            "Depth  :  8  Training Accuracy :  0.9463500920911063  Cross val score :  0.46159689639647805\n",
            "Depth  :  9  Training Accuracy :  0.9526597005671353  Cross val score :  0.4493475543019557\n",
            "Depth  :  10  Training Accuracy :  0.9619599905173514  Cross val score :  0.4620566535999327\n",
            "Depth  :  20  Training Accuracy :  0.9994164523952805  Cross val score :  0.46703077263420517\n"
          ]
        }
      ]
    },
    {
      "cell_type": "markdown",
      "source": [
        "Depth = 4 has the best cross validation score of 0.5226171759534701\n"
      ],
      "metadata": {
        "id": "karBPjH671T3"
      }
    },
    {
      "cell_type": "code",
      "source": [
        "dt = DecisionTreeClassifier(max_depth=4)\n",
        "dt.fit(x_train_smt,y_train_smt)\n",
        "print(\"Decision Tree Score : \", dt.score(x_train_smt,y_train_smt))\n",
        "dt_f1_score = f1_score(y_test, dt.predict(x_test))\n",
        "print(\"F1 score for Decision Tree classifier: \", round(dt_f1_score, 2))"
      ],
      "metadata": {
        "colab": {
          "base_uri": "https://localhost:8080/"
        },
        "id": "iYazjkNN7BW5",
        "outputId": "86a4aac4-8945-4f8e-8f9b-efb6cf1b56b9"
      },
      "execution_count": 88,
      "outputs": [
        {
          "output_type": "stream",
          "name": "stdout",
          "text": [
            "Decision Tree Score :  0.8892536061418386\n",
            "F1 score for Decision Tree classifier:  0.48\n"
          ]
        }
      ]
    },
    {
      "cell_type": "code",
      "source": [
        "from sklearn.metrics import confusion_matrix, classification_report\n",
        "\n",
        "y_pred = dt.predict(x_test)\n",
        "\n",
        "# confusion matrix\n",
        "cm = confusion_matrix(y_test, y_pred)\n",
        "print(\"Confusion Matrix:\")\n",
        "print(cm)\n",
        "\n",
        "#classification report\n",
        "report = classification_report(y_test, y_pred)\n",
        "print(\"Classification Report:\")\n",
        "print(report)\n"
      ],
      "metadata": {
        "colab": {
          "base_uri": "https://localhost:8080/"
        },
        "id": "EqSAzpIA7BOY",
        "outputId": "0132fa33-e9c7-4017-e166-1bab5fa5271a"
      },
      "execution_count": 89,
      "outputs": [
        {
          "output_type": "stream",
          "name": "stdout",
          "text": [
            "Confusion Matrix:\n",
            "[[6128 1844]\n",
            " [ 157  912]]\n",
            "Classification Report:\n",
            "              precision    recall  f1-score   support\n",
            "\n",
            "           0       0.98      0.77      0.86      7972\n",
            "           1       0.33      0.85      0.48      1069\n",
            "\n",
            "    accuracy                           0.78      9041\n",
            "   macro avg       0.65      0.81      0.67      9041\n",
            "weighted avg       0.90      0.78      0.81      9041\n",
            "\n"
          ]
        }
      ]
    },
    {
      "cell_type": "code",
      "source": [
        "# Get feature importances\n",
        "importance = dt.feature_importances_\n",
        "feature_names = [\"age\", \"job\", \"marital\",\"education_qual\", \"call_type\", \"day\", \"mon\", \"dur\", \"num_calls\", \"prev_outcome\"]\n",
        "\n",
        "feature_importances = list(zip(importance, feature_names))\n",
        "\n",
        "# Sorting\n",
        "feature_importances.sort(reverse=True)\n",
        "\n",
        "print(\"Feature Importances for Decision Tree\")\n",
        "for importance, feature_name in feature_importances:\n",
        "    print(f\"{feature_name}: {importance:.4f}\")"
      ],
      "metadata": {
        "colab": {
          "base_uri": "https://localhost:8080/"
        },
        "id": "JtM5zVUe-WlQ",
        "outputId": "921387b7-67c1-42a3-f172-3de774530e91"
      },
      "execution_count": 90,
      "outputs": [
        {
          "output_type": "stream",
          "name": "stdout",
          "text": [
            "Feature Importances for Decision Tree\n",
            "dur: 0.6226\n",
            "mon: 0.2040\n",
            "call_type: 0.1047\n",
            "prev_outcome: 0.0581\n",
            "job: 0.0106\n",
            "num_calls: 0.0000\n",
            "marital: 0.0000\n",
            "education_qual: 0.0000\n",
            "day: 0.0000\n",
            "age: 0.0000\n"
          ]
        }
      ]
    },
    {
      "cell_type": "markdown",
      "source": [
        "## **Random Forest**"
      ],
      "metadata": {
        "id": "b3EzW248Ckfo"
      }
    },
    {
      "cell_type": "code",
      "source": [
        "from sklearn.ensemble import RandomForestClassifier\n",
        "rf= RandomForestClassifier(max_depth=2,n_estimators=100,max_features=\"sqrt\")    #max_depth=log(no of features)\n",
        "rf.fit(x_train, y_train)\n",
        "y_pred= rf.predict(x_test_scaled)\n",
        "print(\"Random Forest accuracy Score : \", rf.score(x_test_scaled,y_test))\n",
        "rf_f1_score = f1_score(y_test, rf.predict(x_test_scaled))\n",
        "print(\"F1 score for Random Forest: \", round(rf_f1_score, 2))"
      ],
      "metadata": {
        "colab": {
          "base_uri": "https://localhost:8080/"
        },
        "id": "qVvAPl9c-WiF",
        "outputId": "4c33a8d6-c614-4a0b-be5c-ca96b1325fcc"
      },
      "execution_count": 91,
      "outputs": [
        {
          "output_type": "stream",
          "name": "stdout",
          "text": [
            "Random Forest accuracy Score :  0.8817608671607123\n",
            "F1 score for Random Forest:  0.0\n"
          ]
        }
      ]
    },
    {
      "cell_type": "code",
      "source": [
        "#doing cross validation to get best value of max _depth to prevent overfitted model\n",
        "from sklearn.model_selection import cross_val_score\n",
        "from sklearn.ensemble import RandomForestClassifier\n",
        "for depth in [1,2,3,4,5,6,7,8,9,10,11,12,13,15,17,19,20,30,40,50]:\n",
        "  rf= RandomForestClassifier(max_depth=depth,n_estimators=100,max_features=\"sqrt\")   # will tell the DT to not grow past the given threhsold\n",
        "  # Fit dt to the training set\n",
        "  rf.fit(x_train, y_train) # the model is trained\n",
        "  rf= RandomForestClassifier(max_depth=depth,n_estimators=100,max_features=\"sqrt\")   # a fresh model which is not trained yet\n",
        "  valAccuracy = cross_val_score(rf, x_train, y_train, cv=10, scoring = 'f1') # syntax : cross_val_Score(freshModel,fts, target, cv= 10/5)\n",
        "  print(\"Depth  : \", depth, \" Training Accuracy : \", trainAccuracy, \" Cross val score : \" ,np.mean(valAccuracy))"
      ],
      "metadata": {
        "colab": {
          "base_uri": "https://localhost:8080/"
        },
        "id": "RsOT05IeEDob",
        "outputId": "b5cb2143-457c-47ef-d3cf-82772f26b398"
      },
      "execution_count": 92,
      "outputs": [
        {
          "output_type": "stream",
          "name": "stdout",
          "text": [
            "Depth  :  1  Training Accuracy :  0.9994164523952805  Cross val score :  0.0\n",
            "Depth  :  2  Training Accuracy :  0.9994164523952805  Cross val score :  0.019590786131419152\n",
            "Depth  :  3  Training Accuracy :  0.9994164523952805  Cross val score :  0.13247607642062267\n",
            "Depth  :  4  Training Accuracy :  0.9994164523952805  Cross val score :  0.2149565275761875\n",
            "Depth  :  5  Training Accuracy :  0.9994164523952805  Cross val score :  0.2728436070214943\n",
            "Depth  :  6  Training Accuracy :  0.9994164523952805  Cross val score :  0.31140383750514744\n",
            "Depth  :  7  Training Accuracy :  0.9994164523952805  Cross val score :  0.38032629031511245\n",
            "Depth  :  8  Training Accuracy :  0.9994164523952805  Cross val score :  0.43898928395495795\n",
            "Depth  :  9  Training Accuracy :  0.9994164523952805  Cross val score :  0.4643431391642812\n",
            "Depth  :  10  Training Accuracy :  0.9994164523952805  Cross val score :  0.475206123446292\n",
            "Depth  :  11  Training Accuracy :  0.9994164523952805  Cross val score :  0.4777851794525073\n",
            "Depth  :  12  Training Accuracy :  0.9994164523952805  Cross val score :  0.4894494771880111\n",
            "Depth  :  13  Training Accuracy :  0.9994164523952805  Cross val score :  0.48872793166919903\n",
            "Depth  :  15  Training Accuracy :  0.9994164523952805  Cross val score :  0.49584988155169524\n",
            "Depth  :  17  Training Accuracy :  0.9994164523952805  Cross val score :  0.4986180953322573\n",
            "Depth  :  19  Training Accuracy :  0.9994164523952805  Cross val score :  0.4997438623981451\n",
            "Depth  :  20  Training Accuracy :  0.9994164523952805  Cross val score :  0.49625334827857204\n",
            "Depth  :  30  Training Accuracy :  0.9994164523952805  Cross val score :  0.49175620455882374\n",
            "Depth  :  40  Training Accuracy :  0.9994164523952805  Cross val score :  0.49869887909745536\n",
            "Depth  :  50  Training Accuracy :  0.9994164523952805  Cross val score :  0.4920563400515234\n"
          ]
        }
      ]
    },
    {
      "cell_type": "markdown",
      "source": [
        "Depth = 19 has the best cross validation score of 0.4997438623981451"
      ],
      "metadata": {
        "id": "r4AhK-sbL9Qa"
      }
    },
    {
      "cell_type": "code",
      "source": [
        "from sklearn.ensemble import RandomForestClassifier\n",
        "rf= RandomForestClassifier(max_depth=19,n_estimators=100,max_features=\"sqrt\")    #max_depth=log(no of features)\n",
        "rf.fit(x_train_smt, y_train_smt)\n",
        "y_pred= rf.predict(x_test_scaled)\n",
        "print(\"Accuracy Score of Random Forest Classifier:\",round(accuracy_score(y_test, y_pred), 1))\n",
        "rf_f1_score = f1_score(y_test, rf.predict(x_test))\n",
        "print(\"F1 score for Random Forest classifier: \", round(rf_f1_score, 2))"
      ],
      "metadata": {
        "colab": {
          "base_uri": "https://localhost:8080/"
        },
        "id": "dCppg60ZKDwg",
        "outputId": "04313bd3-73b2-41ac-8444-83ccfddc7527"
      },
      "execution_count": 101,
      "outputs": [
        {
          "output_type": "stream",
          "name": "stdout",
          "text": [
            "Accuracy Score of Random Forest Classifier: 0.7\n",
            "F1 score for Random Forest classifier:  0.62\n"
          ]
        }
      ]
    },
    {
      "cell_type": "code",
      "source": [
        "from sklearn.metrics import confusion_matrix, classification_report\n",
        "\n",
        "y_pred = rf.predict(x_test)\n",
        "\n",
        "# confusion matrix\n",
        "cm = confusion_matrix(y_test, y_pred)\n",
        "print(\"Confusion Matrix:\")\n",
        "print(cm)\n",
        "\n",
        "#classification report\n",
        "report = classification_report(y_test, y_pred)\n",
        "print(\"Classification Report:\")\n",
        "print(report)"
      ],
      "metadata": {
        "colab": {
          "base_uri": "https://localhost:8080/"
        },
        "id": "PIIPo8U3KDs0",
        "outputId": "5db22626-1c1b-44e4-f4ab-98bedb82ffec"
      },
      "execution_count": 102,
      "outputs": [
        {
          "output_type": "stream",
          "name": "stdout",
          "text": [
            "Confusion Matrix:\n",
            "[[7070  902]\n",
            " [ 193  876]]\n",
            "Classification Report:\n",
            "              precision    recall  f1-score   support\n",
            "\n",
            "           0       0.97      0.89      0.93      7972\n",
            "           1       0.49      0.82      0.62      1069\n",
            "\n",
            "    accuracy                           0.88      9041\n",
            "   macro avg       0.73      0.85      0.77      9041\n",
            "weighted avg       0.92      0.88      0.89      9041\n",
            "\n"
          ]
        }
      ]
    },
    {
      "cell_type": "code",
      "source": [
        "# Get feature importances\n",
        "importance = rf.feature_importances_\n",
        "feature_names = [\"age\", \"job\", \"marital\",\"education_qual\", \"call_type\", \"day\", \"mon\", \"dur\", \"num_calls\", \"prev_outcome\"]\n",
        "\n",
        "feature_importances = list(zip(importance, feature_names))\n",
        "\n",
        "# Sorting\n",
        "feature_importances.sort(reverse=True)\n",
        "\n",
        "print(\"Feature Importances for Random Forest\")\n",
        "for importance, feature_name in feature_importances:\n",
        "    print(f\"{feature_name}: {importance:.4f}\")"
      ],
      "metadata": {
        "colab": {
          "base_uri": "https://localhost:8080/"
        },
        "id": "t6Q0PYvIKDpD",
        "outputId": "bfa078f1-6a90-440c-88d0-beb6249e6459"
      },
      "execution_count": 103,
      "outputs": [
        {
          "output_type": "stream",
          "name": "stdout",
          "text": [
            "Feature Importances for Random Forest\n",
            "dur: 0.4212\n",
            "mon: 0.1325\n",
            "prev_outcome: 0.1122\n",
            "call_type: 0.0792\n",
            "education_qual: 0.0498\n",
            "day: 0.0465\n",
            "marital: 0.0423\n",
            "age: 0.0407\n",
            "job: 0.0401\n",
            "num_calls: 0.0356\n"
          ]
        }
      ]
    },
    {
      "cell_type": "markdown",
      "source": [
        "## **XG Boost**"
      ],
      "metadata": {
        "id": "l2HSwwr8M6HI"
      }
    },
    {
      "cell_type": "code",
      "source": [
        "import xgboost as xgb\n",
        "from sklearn.model_selection import cross_val_score\n",
        "\n",
        "for lr in [0.01,0.02,0.03,0.04,0.05,0.06,0.07,0.08,0.09,0.1,0.11,0.12,0.13,0.14,0.15,0.2,0.5,0.7,1]:\n",
        "  model = xgb.XGBClassifier(learning_rate = lr, n_estimators=100, verbosity = 0) # initialise the model\n",
        "  model.fit(x_train_smt,y_train_smt) #train the model\n",
        "  print(\"Learning rate : \", lr,\" Train score : \", model.score(x_train_smt,y_train_smt),\" Cross-Val score : \", np.mean(cross_val_score(model, x_test, y_test, cv=10, scoring = 'f1')))"
      ],
      "metadata": {
        "colab": {
          "base_uri": "https://localhost:8080/"
        },
        "id": "HdgvDvo8M5Lh",
        "outputId": "c16b5e40-9b89-4092-f7fe-0a994524cee3"
      },
      "execution_count": 96,
      "outputs": [
        {
          "output_type": "stream",
          "name": "stdout",
          "text": [
            "Learning rate :  0.01  Train score :  0.9400404836150774  Cross-Val score :  0.4907841080105479\n",
            "Learning rate :  0.02  Train score :  0.9504531611867899  Cross-Val score :  0.5006088306583939\n",
            "Learning rate :  0.03  Train score :  0.95827634626256  Cross-Val score :  0.5045306312140584\n",
            "Learning rate :  0.04  Train score :  0.9642577092109342  Cross-Val score :  0.5118081243633736\n",
            "Learning rate :  0.05  Train score :  0.9680142969163156  Cross-Val score :  0.5186273035027859\n",
            "Learning rate :  0.06  Train score :  0.970713204588143  Cross-Val score :  0.5296748618676953\n",
            "Learning rate :  0.07  Train score :  0.9737768295129201  Cross-Val score :  0.5326694778800004\n",
            "Learning rate :  0.08  Train score :  0.974488028156172  Cross-Val score :  0.53473690635011\n",
            "Learning rate :  0.09  Train score :  0.9761474916570928  Cross-Val score :  0.5415848716733336\n",
            "Learning rate :  0.1  Train score :  0.9774422379050641  Cross-Val score :  0.5366676129612381\n",
            "Learning rate :  0.11  Train score :  0.9786275689771504  Cross-Val score :  0.5500221322573344\n",
            "Learning rate :  0.12  Train score :  0.9791564089939274  Cross-Val score :  0.5475357113003227\n",
            "Learning rate :  0.13  Train score :  0.9801776173021864  Cross-Val score :  0.5535782040625886\n",
            "Learning rate :  0.14  Train score :  0.9813082407863304  Cross-Val score :  0.552145649733324\n",
            "Learning rate :  0.15  Train score :  0.9813447125116254  Cross-Val score :  0.541230744675495\n",
            "Learning rate :  0.2  Train score :  0.9843718657111075  Cross-Val score :  0.5489578906932808\n",
            "Learning rate :  0.5  Train score :  0.9944927694804603  Cross-Val score :  0.5223125469522768\n",
            "Learning rate :  0.7  Train score :  0.9975746302678848  Cross-Val score :  0.5301154433194757\n",
            "Learning rate :  1  Train score :  0.999544103433813  Cross-Val score :  0.5276728691073316\n"
          ]
        }
      ]
    },
    {
      "cell_type": "markdown",
      "source": [
        "Learning rate = 13 has the best crossvalidation score of 0.5535782040625886"
      ],
      "metadata": {
        "id": "nEwVYmNpPrQn"
      }
    },
    {
      "cell_type": "code",
      "source": [
        "import xgboost as xgb\n",
        "from sklearn.model_selection import cross_val_score\n",
        "\n",
        "learning_rate = 0.13\n",
        "\n",
        "xgbc = xgb.XGBClassifier(learning_rate=learning_rate, n_estimators=100, verbosity=0)\n",
        "xgbc.fit(x_train_smt, y_train_smt)\n",
        "y_pred = xgbc.predict(x_test)\n",
        "print(\"Accuracy Score of XG Boost:\",round(accuracy_score(y_test, y_pred), 1))\n",
        "xg_f1_score = f1_score(y_test, xgbc.predict(x_test))\n",
        "print(\"F1 score for XG Boost: \", round(xg_f1_score, 2))\n",
        "\n"
      ],
      "metadata": {
        "colab": {
          "base_uri": "https://localhost:8080/"
        },
        "id": "VFSaJ-oWM5Ho",
        "outputId": "1521cfc7-dc4c-4e0b-f136-d5071580e52e"
      },
      "execution_count": 97,
      "outputs": [
        {
          "output_type": "stream",
          "name": "stdout",
          "text": [
            "Accuracy Score of XG Boost: 0.9\n",
            "F1 score for XG Boost:  0.63\n"
          ]
        }
      ]
    },
    {
      "cell_type": "code",
      "source": [
        "from sklearn.metrics import confusion_matrix, classification_report\n",
        "\n",
        "y_pred = xgbc.predict(x_test)\n",
        "\n",
        "# confusion matrix\n",
        "cm = confusion_matrix(y_test, y_pred)\n",
        "print(\"Confusion Matrix:\")\n",
        "print(cm)\n",
        "\n",
        "#classification report\n",
        "report = classification_report(y_test, y_pred)\n",
        "print(\"Classification Report:\")\n",
        "print(report)"
      ],
      "metadata": {
        "colab": {
          "base_uri": "https://localhost:8080/"
        },
        "id": "E8UbQnCcM5DC",
        "outputId": "8ca6e29c-ead9-4ba9-f5a5-f63b54455f0e"
      },
      "execution_count": 98,
      "outputs": [
        {
          "output_type": "stream",
          "name": "stdout",
          "text": [
            "Confusion Matrix:\n",
            "[[7168  804]\n",
            " [ 215  854]]\n",
            "Classification Report:\n",
            "              precision    recall  f1-score   support\n",
            "\n",
            "           0       0.97      0.90      0.93      7972\n",
            "           1       0.52      0.80      0.63      1069\n",
            "\n",
            "    accuracy                           0.89      9041\n",
            "   macro avg       0.74      0.85      0.78      9041\n",
            "weighted avg       0.92      0.89      0.90      9041\n",
            "\n"
          ]
        }
      ]
    },
    {
      "cell_type": "code",
      "source": [
        "# Get feature importances\n",
        "importance = xgbc.feature_importances_\n",
        "feature_names = [\"age\", \"job\", \"marital\",\"education_qual\", \"call_type\", \"day\", \"mon\", \"dur\", \"num_calls\", \"prev_outcome\"]\n",
        "\n",
        "feature_importances = list(zip(importance, feature_names))\n",
        "\n",
        "# Sorting\n",
        "feature_importances.sort(reverse=True)\n",
        "\n",
        "print(\"Feature Importances for XG Boost\")\n",
        "for importance, feature_name in feature_importances:\n",
        "    print(f\"{feature_name}: {importance:.4f}\")"
      ],
      "metadata": {
        "colab": {
          "base_uri": "https://localhost:8080/"
        },
        "id": "EumIhMH-M4_D",
        "outputId": "22150c3f-daff-4c56-dab7-5b7bafef6617"
      },
      "execution_count": 99,
      "outputs": [
        {
          "output_type": "stream",
          "name": "stdout",
          "text": [
            "Feature Importances for XG Boost\n",
            "call_type: 0.2176\n",
            "dur: 0.2162\n",
            "prev_outcome: 0.1643\n",
            "mon: 0.1130\n",
            "education_qual: 0.0913\n",
            "marital: 0.0629\n",
            "num_calls: 0.0628\n",
            "job: 0.0363\n",
            "day: 0.0200\n",
            "age: 0.0156\n"
          ]
        }
      ]
    },
    {
      "cell_type": "markdown",
      "source": [
        "# **Conclusion**"
      ],
      "metadata": {
        "id": "Wl2CV7FiXIjv"
      }
    },
    {
      "cell_type": "markdown",
      "source": [
        "Of all the models, XG Boost is the best model with a F1 score of 63%\n",
        "\n",
        "Below is the comparison of all models"
      ],
      "metadata": {
        "id": "FQJDpUy8XNOu"
      }
    },
    {
      "cell_type": "markdown",
      "source": [
        "![image.png](data:image/png;base64,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)"
      ],
      "metadata": {
        "id": "XcmqGsbHWFNi"
      }
    },
    {
      "cell_type": "markdown",
      "source": [
        "As per XG Boost model, duration and Call Type are the top 2 features"
      ],
      "metadata": {
        "id": "IfjwLq__Yh5f"
      }
    },
    {
      "cell_type": "code",
      "source": [
        "import pickle\n",
        "pickle_out = open(\"project1.pkl\",\"wb\")\n",
        "pickle.dump(xgbc, pickle_out)\n",
        "pickle_out.close()"
      ],
      "metadata": {
        "id": "iP4mbY8tKDki"
      },
      "execution_count": 100,
      "outputs": []
    }
  ]
}